{
 "cells": [
  {
   "cell_type": "markdown",
   "id": "5499e0b3",
   "metadata": {},
   "source": [
    "## Compare Candidate Search Approaches"
   ]
  },
  {
   "cell_type": "markdown",
   "id": "567b2931",
   "metadata": {},
   "source": [
    "### Imports"
   ]
  },
  {
   "cell_type": "code",
   "execution_count": 1,
   "id": "aa68fc15",
   "metadata": {},
   "outputs": [
    {
     "name": "stderr",
     "output_type": "stream",
     "text": [
      "e:\\Semantic Search YouTube Channel Part One\\proj_one\\Lib\\site-packages\\tqdm\\auto.py:21: TqdmWarning: IProgress not found. Please update jupyter and ipywidgets. See https://ipywidgets.readthedocs.io/en/stable/user_install.html\n",
      "  from .autonotebook import tqdm as notebook_tqdm\n"
     ]
    }
   ],
   "source": [
    "import polars as pl\n",
    "import torch\n",
    "from sentence_transformers import SentenceTransformer, util\n",
    "\n",
    "from sklearn.metrics import DistanceMetric\n",
    "import numpy as np\n",
    "import matplotlib.pyplot as plt"
   ]
  },
  {
   "cell_type": "markdown",
   "id": "9e1edfce",
   "metadata": {},
   "source": [
    "### Load Data"
   ]
  },
  {
   "cell_type": "markdown",
   "id": "9a510dee",
   "metadata": {},
   "source": [
    "video-transcripts --> original data\n",
    "eval-data --> self produced query data"
   ]
  },
  {
   "cell_type": "code",
   "execution_count": 2,
   "id": "bbbfe2c1",
   "metadata": {},
   "outputs": [
    {
     "data": {
      "text/html": [
       "<div><style>\n",
       ".dataframe > thead > tr,\n",
       ".dataframe > tbody > tr {\n",
       "  text-align: right;\n",
       "  white-space: pre-wrap;\n",
       "}\n",
       "</style>\n",
       "<small>shape: (5, 4)</small><table border=\"1\" class=\"dataframe\"><thead><tr><th>video_id</th><th>datetime</th><th>title</th><th>transcript</th></tr><tr><td>str</td><td>datetime[μs]</td><td>str</td><td>str</td></tr></thead><tbody><tr><td>&quot;qPN_XZcJf_s&quot;</td><td>2025-05-05 04:01:03</td><td>&quot;Reinforcement Learning with Hu…</td><td>&quot;If you tell me what you like a…</td></tr><tr><td>&quot;DVGmsnxB2UQ&quot;</td><td>2025-04-14 04:00:27</td><td>&quot;Reinforcement Learning with Ne…</td><td>&quot;if you make a guess and you ma…</td></tr><tr><td>&quot;9hbQieQh7-o&quot;</td><td>2025-04-07 04:00:17</td><td>&quot;Reinforcement Learning with Ne…</td><td>&quot;When you don&#x27;t know, take a gu…</td></tr><tr><td>&quot;Z-T0iJEXiwM&quot;</td><td>2025-03-31 04:00:25</td><td>&quot;Reinforcement Learning: Essent…</td><td>&quot;reinforcement learning it&#x27;s ju…</td></tr><tr><td>&quot;_kstkMF-lQQ&quot;</td><td>2025-02-12 14:20:19</td><td>&quot;StatQuest on DeepLearning.AI!!…</td><td>&quot;the encoder model was used as …</td></tr></tbody></table></div>"
      ],
      "text/plain": [
       "shape: (5, 4)\n",
       "┌─────────────┬─────────────────────┬───────────────────────────────┬──────────────────────────────┐\n",
       "│ video_id    ┆ datetime            ┆ title                         ┆ transcript                   │\n",
       "│ ---         ┆ ---                 ┆ ---                           ┆ ---                          │\n",
       "│ str         ┆ datetime[μs]        ┆ str                           ┆ str                          │\n",
       "╞═════════════╪═════════════════════╪═══════════════════════════════╪══════════════════════════════╡\n",
       "│ qPN_XZcJf_s ┆ 2025-05-05 04:01:03 ┆ Reinforcement Learning with   ┆ If you tell me what you like │\n",
       "│             ┆                     ┆ Hu…                           ┆ a…                           │\n",
       "│ DVGmsnxB2UQ ┆ 2025-04-14 04:00:27 ┆ Reinforcement Learning with   ┆ if you make a guess and you  │\n",
       "│             ┆                     ┆ Ne…                           ┆ ma…                          │\n",
       "│ 9hbQieQh7-o ┆ 2025-04-07 04:00:17 ┆ Reinforcement Learning with   ┆ When you don't know, take a  │\n",
       "│             ┆                     ┆ Ne…                           ┆ gu…                          │\n",
       "│ Z-T0iJEXiwM ┆ 2025-03-31 04:00:25 ┆ Reinforcement Learning:       ┆ reinforcement learning it's  │\n",
       "│             ┆                     ┆ Essent…                       ┆ ju…                          │\n",
       "│ _kstkMF-lQQ ┆ 2025-02-12 14:20:19 ┆ StatQuest on                  ┆ the encoder model was used   │\n",
       "│             ┆                     ┆ DeepLearning.AI!!…            ┆ as …                         │\n",
       "└─────────────┴─────────────────────┴───────────────────────────────┴──────────────────────────────┘"
      ]
     },
     "execution_count": 2,
     "metadata": {},
     "output_type": "execute_result"
    }
   ],
   "source": [
    "df = pl.read_parquet('data/video-transcripts.parquet')\n",
    "df_eval = pl.read_csv('data/eval_data.csv', encoding=\"utf8-lossy\")\n",
    "df.shape\n",
    "df.head()"
   ]
  },
  {
   "cell_type": "code",
   "execution_count": 3,
   "id": "7c3379bc",
   "metadata": {},
   "outputs": [
    {
     "data": {
      "text/html": [
       "<div><style>\n",
       ".dataframe > thead > tr,\n",
       ".dataframe > tbody > tr {\n",
       "  text-align: right;\n",
       "  white-space: pre-wrap;\n",
       "}\n",
       "</style>\n",
       "<small>shape: (5, 2)</small><table border=\"1\" class=\"dataframe\"><thead><tr><th>video_id</th><th>query</th></tr><tr><td>str</td><td>str</td></tr></thead><tbody><tr><td>&quot;qPN_XZcJf_s&quot;</td><td>&quot;How does reinforcement learnin…</td></tr><tr><td>&quot;DVGmsnxB2UQ&quot;</td><td>&quot;What are the math foundations …</td></tr><tr><td>&quot;9hbQieQh7-o&quot;</td><td>&quot;Core ideas for reinforcement l…</td></tr><tr><td>&quot;Z-T0iJEXiwM&quot;</td><td>&quot;reinforcement learning in simp…</td></tr><tr><td>&quot;_kstkMF-lQQ&quot;</td><td>&quot;Quick and clear explanation of…</td></tr></tbody></table></div>"
      ],
      "text/plain": [
       "shape: (5, 2)\n",
       "┌─────────────┬─────────────────────────────────┐\n",
       "│ video_id    ┆ query                           │\n",
       "│ ---         ┆ ---                             │\n",
       "│ str         ┆ str                             │\n",
       "╞═════════════╪═════════════════════════════════╡\n",
       "│ qPN_XZcJf_s ┆ How does reinforcement learnin… │\n",
       "│ DVGmsnxB2UQ ┆ What are the math foundations … │\n",
       "│ 9hbQieQh7-o ┆ Core ideas for reinforcement l… │\n",
       "│ Z-T0iJEXiwM ┆ reinforcement learning in simp… │\n",
       "│ _kstkMF-lQQ ┆ Quick and clear explanation of… │\n",
       "└─────────────┴─────────────────────────────────┘"
      ]
     },
     "execution_count": 3,
     "metadata": {},
     "output_type": "execute_result"
    }
   ],
   "source": [
    "df_eval.shape\n",
    "df_eval.head()"
   ]
  },
  {
   "cell_type": "markdown",
   "id": "686d636c",
   "metadata": {},
   "source": [
    "### Embed Titles and Transcripts"
   ]
  },
  {
   "cell_type": "markdown",
   "id": "65906916",
   "metadata": {},
   "source": [
    "creating embeddings with column and model(df frame)"
   ]
  },
  {
   "cell_type": "code",
   "execution_count": 4,
   "id": "43006b2a",
   "metadata": {},
   "outputs": [],
   "source": [
    "# define \"parameters\"\n",
    "column_to_embed_list = ['title', 'transcript']\n",
    "model_name_list = [\"all-MiniLM-L6-v2\", \"multi-qa-distilbert-cos-v1\", \"multi-qa-mpnet-base-dot-v1\"]"
   ]
  },
  {
   "cell_type": "code",
   "execution_count": 5,
   "id": "4eca6ad3",
   "metadata": {},
   "outputs": [
    {
     "name": "stdout",
     "output_type": "stream",
     "text": [
      "all-MiniLM-L6-v2_title\n",
      "CPU times: total: 3.61 s\n",
      "Wall time: 704 ms\n",
      "\n",
      "all-MiniLM-L6-v2_transcript\n",
      "CPU times: total: 48.1 s\n",
      "Wall time: 7.97 s\n",
      "\n",
      "multi-qa-distilbert-cos-v1_title\n",
      "CPU times: total: 11.8 s\n",
      "Wall time: 2.2 s\n",
      "\n",
      "multi-qa-distilbert-cos-v1_transcript\n",
      "CPU times: total: 4min 49s\n",
      "Wall time: 49.3 s\n",
      "\n",
      "multi-qa-mpnet-base-dot-v1_title\n",
      "CPU times: total: 25 s\n",
      "Wall time: 4.67 s\n",
      "\n",
      "multi-qa-mpnet-base-dot-v1_transcript\n",
      "CPU times: total: 11min 28s\n",
      "Wall time: 1min 56s\n",
      "\n"
     ]
    }
   ],
   "source": [
    "# generate embeddings for each combination of column and model\n",
    "\n",
    "# initialize dict to keep track of all text embeddings\n",
    "text_embedding_dict = {}\n",
    "\n",
    "for model_name in model_name_list:\n",
    "\n",
    "    #define embedding model\n",
    "    model = SentenceTransformer(model_name) \n",
    "\n",
    "    for column_name in column_to_embed_list:\n",
    "\n",
    "        # define text embedding identifier\n",
    "        key_name = model_name + \"_\" + column_name\n",
    "        print(key_name)\n",
    "\n",
    "        # generate embeddings for text under column_name\n",
    "        %time embedding_arr = model.encode(df[column_name].to_list())\n",
    "        print('')\n",
    "\n",
    "        # append embeddings to dict\n",
    "        text_embedding_dict[key_name] = embedding_arr"
   ]
  },
  {
   "cell_type": "code",
   "execution_count": 6,
   "id": "2bf8a5af",
   "metadata": {},
   "outputs": [
    {
     "data": {
      "text/plain": [
       "(269, 768)"
      ]
     },
     "execution_count": 6,
     "metadata": {},
     "output_type": "execute_result"
    }
   ],
   "source": [
    "embedding_arr.shape"
   ]
  },
  {
   "cell_type": "code",
   "execution_count": 7,
   "id": "6b365fb6",
   "metadata": {},
   "outputs": [
    {
     "data": {
      "text/plain": [
       "{'all-MiniLM-L6-v2_title': array([[-0.04577294, -0.03536161,  0.01674047, ...,  0.08382568,\n",
       "          0.01537051,  0.04929987],\n",
       "        [-0.08249424, -0.03172299,  0.05575989, ...,  0.00093511,\n",
       "         -0.07605799, -0.01927041],\n",
       "        [-0.07484752, -0.06010093,  0.03214505, ...,  0.01209698,\n",
       "         -0.0929385 ,  0.00065229],\n",
       "        ...,\n",
       "        [ 0.03343456,  0.04637399, -0.07690614, ...,  0.10551995,\n",
       "          0.02082146, -0.00478728],\n",
       "        [-0.0994635 , -0.03978509, -0.03035961, ..., -0.03320049,\n",
       "          0.04437448,  0.04836575],\n",
       "        [-0.02012799, -0.02282261,  0.02265325, ..., -0.07128242,\n",
       "          0.05690396,  0.0577021 ]], shape=(269, 384), dtype=float32),\n",
       " 'all-MiniLM-L6-v2_transcript': array([[-0.06302463, -0.12518334,  0.04661809, ...,  0.09399724,\n",
       "         -0.0851324 ,  0.04195585],\n",
       "        [-0.09804534, -0.07821772, -0.00983041, ...,  0.06579232,\n",
       "         -0.0460928 , -0.02563621],\n",
       "        [-0.08799476, -0.15343395,  0.00779813, ...,  0.08505448,\n",
       "         -0.08145781, -0.05276996],\n",
       "        ...,\n",
       "        [-0.01146791, -0.01851501, -0.08674084, ...,  0.08029477,\n",
       "         -0.01705588, -0.07831451],\n",
       "        [-0.08199196, -0.03504338,  0.05977665, ...,  0.03260162,\n",
       "         -0.01199348,  0.01084044],\n",
       "        [-0.02236917, -0.09729746,  0.01043878, ...,  0.02460144,\n",
       "         -0.00627889,  0.03061608]], shape=(269, 384), dtype=float32),\n",
       " 'multi-qa-distilbert-cos-v1_title': array([[ 0.04958751,  0.02049984,  0.02791137, ..., -0.01896774,\n",
       "         -0.05253672, -0.00819104],\n",
       "        [ 0.04839757,  0.02241219, -0.00389018, ..., -0.02997582,\n",
       "         -0.08957014,  0.03167325],\n",
       "        [ 0.02627611,  0.02204688,  0.00712724, ..., -0.02419677,\n",
       "         -0.0937372 ,  0.01194002],\n",
       "        ...,\n",
       "        [-0.00792461, -0.00455513,  0.11683916, ...,  0.00115415,\n",
       "          0.0239035 ,  0.0168822 ],\n",
       "        [ 0.0273579 , -0.03188663,  0.04826889, ...,  0.04847542,\n",
       "          0.0125727 , -0.00396717],\n",
       "        [ 0.07488247, -0.00240263,  0.01080726, ...,  0.02238536,\n",
       "          0.03846838,  0.02346613]], shape=(269, 768), dtype=float32),\n",
       " 'multi-qa-distilbert-cos-v1_transcript': array([[ 0.04333208, -0.00795593, -0.01648623, ..., -0.01654884,\n",
       "         -0.01006427, -0.00306415],\n",
       "        [ 0.01117432, -0.02607594,  0.01389136, ...,  0.0098528 ,\n",
       "         -0.00866386,  0.05345606],\n",
       "        [ 0.02184994, -0.03389721,  0.01117216, ...,  0.03148483,\n",
       "         -0.01892977, -0.01159578],\n",
       "        ...,\n",
       "        [-0.0097855 , -0.00753461,  0.07227699, ..., -0.01066222,\n",
       "          0.02128291, -0.00088131],\n",
       "        [ 0.01404369, -0.03206544, -0.00117359, ...,  0.01769275,\n",
       "         -0.00501866,  0.02997986],\n",
       "        [-0.01812805,  0.00710782,  0.02829202, ..., -0.01000958,\n",
       "          0.04493362,  0.06786555]], shape=(269, 768), dtype=float32),\n",
       " 'multi-qa-mpnet-base-dot-v1_title': array([[ 0.15218756, -0.38609138, -0.27590472, ..., -0.10302252,\n",
       "          0.09992655, -0.24908447],\n",
       "        [ 0.03584654, -0.2805042 , -0.33366725, ..., -0.15354097,\n",
       "         -0.08756299, -0.38997656],\n",
       "        [ 0.06349826, -0.18918335, -0.33346134, ..., -0.14911823,\n",
       "          0.12558538, -0.11626285],\n",
       "        ...,\n",
       "        [-0.23036467, -0.73172146, -0.3478451 , ..., -0.22081348,\n",
       "         -0.06052728, -0.11604551],\n",
       "        [ 0.08243218, -0.50236726, -0.3439212 , ...,  0.15114343,\n",
       "         -0.03390435, -0.20714295],\n",
       "        [ 0.1907386 , -0.7162843 , -0.37092578, ..., -0.0219586 ,\n",
       "          0.05579165, -0.3390699 ]], shape=(269, 768), dtype=float32),\n",
       " 'multi-qa-mpnet-base-dot-v1_transcript': array([[ 0.11607641, -0.1936259 , -0.14643192, ..., -0.2068419 ,\n",
       "         -0.32178774, -0.39296287],\n",
       "        [-0.01049881, -0.10774581, -0.29144222, ..., -0.06655692,\n",
       "         -0.00098343, -0.4455403 ],\n",
       "        [ 0.09338631, -0.15748313, -0.29496378, ..., -0.2485163 ,\n",
       "          0.06888422, -0.45905447],\n",
       "        ...,\n",
       "        [ 0.01698234, -0.25832212, -0.10298693, ..., -0.0076274 ,\n",
       "          0.09925927, -0.33880597],\n",
       "        [ 0.24488635, -0.5865109 , -0.19399905, ...,  0.06182465,\n",
       "          0.04731606, -0.5123269 ],\n",
       "        [ 0.1637584 , -0.6613341 , -0.12554342, ...,  0.08796788,\n",
       "         -0.20322238, -0.03231571]], shape=(269, 768), dtype=float32)}"
      ]
     },
     "execution_count": 7,
     "metadata": {},
     "output_type": "execute_result"
    }
   ],
   "source": [
    "text_embedding_dict"
   ]
  },
  {
   "cell_type": "code",
   "execution_count": 9,
   "id": "e537ad37",
   "metadata": {},
   "outputs": [
    {
     "data": {
      "text/plain": [
       "(269, 384)"
      ]
     },
     "execution_count": 9,
     "metadata": {},
     "output_type": "execute_result"
    }
   ],
   "source": [
    "text_embedding_dict['all-MiniLM-L6-v2_title'].shape # that changes for each of the model"
   ]
  },
  {
   "cell_type": "markdown",
   "id": "6ab4a24e",
   "metadata": {},
   "source": [
    "### Embed Queries"
   ]
  },
  {
   "cell_type": "markdown",
   "id": "96c6be37",
   "metadata": {},
   "source": [
    "creating embeddings with query and model(df_eval frame)"
   ]
  },
  {
   "cell_type": "code",
   "execution_count": 10,
   "id": "cf2a7a83",
   "metadata": {},
   "outputs": [
    {
     "name": "stdout",
     "output_type": "stream",
     "text": [
      "all-MiniLM-L6-v2\n",
      "CPU times: total: 2.77 s\n",
      "Wall time: 469 ms\n",
      "\n",
      "multi-qa-distilbert-cos-v1\n",
      "CPU times: total: 8.05 s\n",
      "Wall time: 1.37 s\n",
      "\n",
      "multi-qa-mpnet-base-dot-v1\n",
      "CPU times: total: 16.8 s\n",
      "Wall time: 2.84 s\n",
      "\n"
     ]
    }
   ],
   "source": [
    "query_embedding_dict = {}\n",
    "\n",
    "for model_name in model_name_list:\n",
    "\n",
    "    #define embedding model\n",
    "    model = SentenceTransformer(model_name)\n",
    "    print(model_name)\n",
    "\n",
    "    # embed query text\n",
    "    %time embedding_arr = model.encode(df_eval['query'].to_list())\n",
    "    print('')\n",
    "\n",
    "    # append embedding to dict\n",
    "    query_embedding_dict[model_name] = embedding_arr"
   ]
  },
  {
   "cell_type": "markdown",
   "id": "7db5ce61",
   "metadata": {},
   "source": [
    "### Evaluate Search Methods"
   ]
  },
  {
   "cell_type": "code",
   "execution_count": 11,
   "id": "72a8f52c",
   "metadata": {},
   "outputs": [],
   "source": [
    "def returnVideoID_index(df: pl.dataframe.frame.DataFrame, df_eval: pl.dataframe.frame.DataFrame, query_n: int) -> int:\n",
    "    \"\"\"\n",
    "        Function to return the index of a dataframe corresponding to the nth row in evaluation dataframe\n",
    "    \"\"\"\n",
    "\n",
    "    return [i for i in range(len(df)) if df['video_id'][i]==df_eval['video_id'][query_n]][0]"
   ]
  },
  {
   "cell_type": "code",
   "execution_count": 12,
   "id": "3e4e35e4",
   "metadata": {},
   "outputs": [],
   "source": [
    "def evalTrueRankings(dist_arr_isorted: np.ndarray, df: pl.dataframe.frame.DataFrame, df_eval: pl.dataframe.frame.DataFrame) -> np.ndarray:\n",
    "    \"\"\"\n",
    "        Function to return \"true\" video ID rankings for each evaluation query\n",
    "    \"\"\"\n",
    "    \n",
    "    # intialize array to store rankings of \"correct\" search result\n",
    "    true_rank_arr = np.empty((1, dist_arr_isorted.shape[1]))\n",
    "    \n",
    "    # evaluate ranking of correct result for each query\n",
    "    for query_n in range(dist_arr_isorted.shape[1]):\n",
    "    \n",
    "        # return \"true\" video ID's in df\n",
    "        video_id_idx = returnVideoID_index(df, df_eval, query_n)\n",
    "        \n",
    "        # evaluate the ranking of the \"true\" video ID\n",
    "        true_rank = np.argwhere(dist_arr_isorted[:,query_n]==video_id_idx)[0][0]\n",
    "        \n",
    "        # store the \"true\" video ID's ranking in array\n",
    "        true_rank_arr[0,query_n] = true_rank\n",
    "\n",
    "    return true_rank_arr"
   ]
  },
  {
   "cell_type": "code",
   "execution_count": 13,
   "id": "86879463",
   "metadata": {},
   "outputs": [],
   "source": [
    "# initialize distance metrics to experiment\n",
    "dist_name_list = ['euclidean', 'manhattan', 'chebyshev']\n",
    "sim_name_list = ['cos_sim', 'dot_score']"
   ]
  },
  {
   "cell_type": "code",
   "execution_count": null,
   "id": "8af9f424",
   "metadata": {},
   "outputs": [],
   "source": [
    "# evaluate all possible combinations of model, columns to embed, and distance metrics\n",
    "# model:3, column: 3, matrics: 5 = 45\n",
    "# initialize list to store results\n",
    "eval_results = []\n",
    "\n",
    "# loop through all models\n",
    "for model_name in model_name_list:\n",
    "\n",
    "    # generate query embedding(df_eval)\n",
    "    query_embedding = query_embedding_dict[model_name]\n",
    "    \n",
    "    # loop through text columns(df)\n",
    "    for column_name in column_to_embed_list:\n",
    "\n",
    "        # generate column embedding\n",
    "        embedding_arr = text_embedding_dict[model_name+'_'+column_name]\n",
    "\n",
    "        # loop through distance metrics\n",
    "        for dist_name in dist_name_list:\n",
    "\n",
    "            # compute distance between video text and query\n",
    "            dist = DistanceMetric.get_metric(dist_name)\n",
    "            dist_arr = dist.pairwise(embedding_arr, query_embedding)\n",
    "\n",
    "            # sort indexes of distance array\n",
    "            dist_arr_isorted = np.argsort(dist_arr, axis=0)\n",
    "\n",
    "            # define label for search method\n",
    "            method_name = \"_\".join([model_name, column_name, dist_name])\n",
    "\n",
    "            # evaluate the ranking of the ground truth\n",
    "            true_rank_arr = evalTrueRankings(dist_arr_isorted, df, df_eval)\n",
    "\n",
    "            # store results\n",
    "            eval_list = [method_name] + true_rank_arr.tolist()[0]\n",
    "            eval_results.append(eval_list)\n",
    "\n",
    "        # loop through sbert similarity scores\n",
    "        for sim_name in sim_name_list:\n",
    "            # apply similarity score from sbert\n",
    "            cmd = \"dist_arr = -util.\" + sim_name + \"(embedding_arr, query_embedding)\"\n",
    "            exec(cmd)\n",
    "    \n",
    "            # sort indexes of distance array (notice minus sign in front of cosine similarity)\n",
    "            dist_arr_isorted = np.argsort(dist_arr, axis=0)\n",
    "    \n",
    "            # define label for search method\n",
    "            method_name = \"_\".join([model_name, column_name, sim_name.replace(\"_\",\"-\")])\n",
    "    \n",
    "            # evaluate the ranking of the ground truth\n",
    "            true_rank_arr = evalTrueRankings(dist_arr_isorted, df, df_eval)\n",
    "    \n",
    "            # store results\n",
    "            eval_list = [method_name] + true_rank_arr.tolist()[0]\n",
    "            eval_results.append(eval_list)"
   ]
  },
  {
   "cell_type": "code",
   "execution_count": 15,
   "id": "ba177069",
   "metadata": {},
   "outputs": [
    {
     "data": {
      "text/plain": [
       "'dist_arr = -util.dot_score(embedding_arr, query_embedding)'"
      ]
     },
     "execution_count": 15,
     "metadata": {},
     "output_type": "execute_result"
    }
   ],
   "source": [
    "cmd"
   ]
  },
  {
   "cell_type": "code",
   "execution_count": 16,
   "id": "a041589d",
   "metadata": {},
   "outputs": [
    {
     "data": {
      "text/plain": [
       "tensor(-22.2477)"
      ]
     },
     "execution_count": 16,
     "metadata": {},
     "output_type": "execute_result"
    }
   ],
   "source": [
    "dist_arr.shape # 1. df row, 2. df_eval row\n",
    "dist_arr[0,2]"
   ]
  },
  {
   "cell_type": "code",
   "execution_count": 17,
   "id": "8e670b82",
   "metadata": {},
   "outputs": [
    {
     "data": {
      "text/plain": [
       "array([[  0.,   1.,   0.,   0.,   0.,   4.,   0.,   0.,   0.,   1.,   0.,\n",
       "          2.,   0.,   8.,   0.,   0.,   0.,   0.,  35.,  36.,   0.,   0.,\n",
       "          0.,   0.,   3.,   0.,   0.,   4.,   1.,   0.,   0.,   0.,   0.,\n",
       "          0.,   0.,   1.,   0.,   0.,   0.,   1.,   0.,   1.,   0.,   0.,\n",
       "          0.,   0.,   1.,  46.,   5.,   0.,   1.,   0.,   4.,   1.,   0.,\n",
       "          0.,   3.,   1.,   0.,   0.,   6.,   1.,   0.,   0.,  64.,   2.,\n",
       "          2.,   1.,   0.,   0.,   0.,   0.,   0.,   0.,   0.,   1.,   0.,\n",
       "          0.,   0.,   0.,   0.,   0.,   1.,   0.,   0.,   1.,   0.,   0.,\n",
       "          0.,   0.,   1.,   1.,   0.,   0.,   0.,   0.,   0.,   0.,   0.,\n",
       "          0.,   0.,   0.,   2.,   2.,   0., 253.,  28.,   0.,   0.,   0.,\n",
       "          9.,   1.,   1.,   1.,   0.,   3.,   0.,   0.,   1., 249.,  13.,\n",
       "          0.,   1., 177.,   2.,   1.,   0.,   0.,   0.,   1.,   0.,   0.,\n",
       "          0.,   0.,   0.,   1.,   2.,   0.,   3.,   0.,   2.,   0.,   0.,\n",
       "          0.,   0.,   0.,   0.,   0.,   0.,   0.,   0.,   0.,   0.,   0.,\n",
       "          0.,   0.,   1.,   0.,   0.,   0.,   0.,   0.,   0.,   0.,   0.,\n",
       "          0.,   0.,   0.,   1.,   0.,   1.,   0.,   1.,   0.,   0.,   0.,\n",
       "          4.,   3.,   0.,   0.,   0.,   9.,   0.,   0.,   1.,   0.,   0.,\n",
       "          0.,   1.,   3.,   4.,   0.,   0.,   0.,   0.,   1.,   0.,   0.,\n",
       "          0.,   0.,   0.,   0.,   0.,   0.,   0.,   0.,   1.,   0.,   0.,\n",
       "          0.,   2.,   0.]])"
      ]
     },
     "execution_count": 17,
     "metadata": {},
     "output_type": "execute_result"
    }
   ],
   "source": [
    "true_rank_arr"
   ]
  },
  {
   "cell_type": "code",
   "execution_count": 18,
   "id": "976cda11",
   "metadata": {},
   "outputs": [],
   "source": [
    "# compute rankings for title + transcripts embedding\n",
    "for model_name in model_name_list:\n",
    "    \n",
    "    # generate embeddings\n",
    "    embedding_arr1 = text_embedding_dict[model_name+'_title']\n",
    "    embedding_arr2 = text_embedding_dict[model_name+'_transcript']\n",
    "    query_embedding = query_embedding_dict[model_name]\n",
    "\n",
    "    for dist_name in dist_name_list:\n",
    "\n",
    "        # compute distance between video text(title + transcript) and query\n",
    "        dist = DistanceMetric.get_metric(dist_name)\n",
    "        dist_arr = dist.pairwise(embedding_arr1, query_embedding) + dist.pairwise(embedding_arr2, query_embedding)\n",
    "\n",
    "        # sort indexes of distance array\n",
    "        dist_arr_isorted = np.argsort(dist_arr, axis=0)\n",
    "\n",
    "         # define label for search method\n",
    "        method_name = \"_\".join([model_name, \"title-transcript\", dist_name])\n",
    "\n",
    "        # evaluate the ranking of the ground truth\n",
    "        true_rank_arr = evalTrueRankings(dist_arr_isorted, df, df_eval)\n",
    "\n",
    "        # store results\n",
    "        eval_list = [method_name] + true_rank_arr.tolist()[0]\n",
    "        eval_results.append(eval_list)\n",
    "\n",
    "    # loop through sbert similarity scores\n",
    "    for sim_name in sim_name_list:\n",
    "        # apply similarity score from sbert\n",
    "        cmd = \"dist_arr = -util.\" + sim_name + \"(embedding_arr1, query_embedding) - util.\"+ sim_name + \"(embedding_arr2, query_embedding)\"\n",
    "        exec(cmd)\n",
    "\n",
    "        # sort indexes of distance array (notice minus sign in front of cosine similarity)\n",
    "        dist_arr_isorted = np.argsort(dist_arr, axis=0)\n",
    "\n",
    "        # define label for search method\n",
    "        method_name = \"_\".join([model_name, \"title-transcript\", sim_name.replace(\"_\",\"-\")])\n",
    "\n",
    "        # evaluate the ranking of the ground truth\n",
    "        true_rank_arr = evalTrueRankings(dist_arr_isorted, df, df_eval)\n",
    "\n",
    "        # store results\n",
    "        eval_list = [method_name] + true_rank_arr.tolist()[0]\n",
    "        eval_results.append(eval_list)"
   ]
  },
  {
   "cell_type": "code",
   "execution_count": 19,
   "id": "a423e61c",
   "metadata": {},
   "outputs": [
    {
     "data": {
      "text/plain": [
       "45"
      ]
     },
     "execution_count": 19,
     "metadata": {},
     "output_type": "execute_result"
    }
   ],
   "source": [
    "len(eval_results)"
   ]
  },
  {
   "cell_type": "code",
   "execution_count": 20,
   "id": "a79702e3",
   "metadata": {},
   "outputs": [
    {
     "name": "stderr",
     "output_type": "stream",
     "text": [
      "C:\\Users\\tahmida.TAHMIDA_ASUS\\AppData\\Local\\Temp\\ipykernel_29960\\3887212411.py:7: DataOrientationWarning: Row orientation inferred during DataFrame construction. Explicitly specify the orientation by passing `orient=\"row\"` to silence this warning.\n",
      "  df_results = pl.DataFrame(eval_results, schema=schema_dict)\n"
     ]
    },
    {
     "data": {
      "text/html": [
       "<div><style>\n",
       ".dataframe > thead > tr,\n",
       ".dataframe > tbody > tr {\n",
       "  text-align: right;\n",
       "  white-space: pre-wrap;\n",
       "}\n",
       "</style>\n",
       "<small>shape: (5, 213)</small><table border=\"1\" class=\"dataframe\"><thead><tr><th>method_name</th><th>rank_query-0</th><th>rank_query-1</th><th>rank_query-2</th><th>rank_query-3</th><th>rank_query-4</th><th>rank_query-5</th><th>rank_query-6</th><th>rank_query-7</th><th>rank_query-8</th><th>rank_query-9</th><th>rank_query-10</th><th>rank_query-11</th><th>rank_query-12</th><th>rank_query-13</th><th>rank_query-14</th><th>rank_query-15</th><th>rank_query-16</th><th>rank_query-17</th><th>rank_query-18</th><th>rank_query-19</th><th>rank_query-20</th><th>rank_query-21</th><th>rank_query-22</th><th>rank_query-23</th><th>rank_query-24</th><th>rank_query-25</th><th>rank_query-26</th><th>rank_query-27</th><th>rank_query-28</th><th>rank_query-29</th><th>rank_query-30</th><th>rank_query-31</th><th>rank_query-32</th><th>rank_query-33</th><th>rank_query-34</th><th>rank_query-35</th><th>&hellip;</th><th>rank_query-175</th><th>rank_query-176</th><th>rank_query-177</th><th>rank_query-178</th><th>rank_query-179</th><th>rank_query-180</th><th>rank_query-181</th><th>rank_query-182</th><th>rank_query-183</th><th>rank_query-184</th><th>rank_query-185</th><th>rank_query-186</th><th>rank_query-187</th><th>rank_query-188</th><th>rank_query-189</th><th>rank_query-190</th><th>rank_query-191</th><th>rank_query-192</th><th>rank_query-193</th><th>rank_query-194</th><th>rank_query-195</th><th>rank_query-196</th><th>rank_query-197</th><th>rank_query-198</th><th>rank_query-199</th><th>rank_query-200</th><th>rank_query-201</th><th>rank_query-202</th><th>rank_query-203</th><th>rank_query-204</th><th>rank_query-205</th><th>rank_query-206</th><th>rank_query-207</th><th>rank_query-208</th><th>rank_query-209</th><th>rank_query-210</th><th>rank_query-211</th></tr><tr><td>str</td><td>f64</td><td>f64</td><td>f64</td><td>f64</td><td>f64</td><td>f64</td><td>f64</td><td>f64</td><td>f64</td><td>f64</td><td>f64</td><td>f64</td><td>f64</td><td>f64</td><td>f64</td><td>f64</td><td>f64</td><td>f64</td><td>f64</td><td>f64</td><td>f64</td><td>f64</td><td>f64</td><td>f64</td><td>f64</td><td>f64</td><td>f64</td><td>f64</td><td>f64</td><td>f64</td><td>f64</td><td>f64</td><td>f64</td><td>f64</td><td>f64</td><td>f64</td><td>&hellip;</td><td>f64</td><td>f64</td><td>f64</td><td>f64</td><td>f64</td><td>f64</td><td>f64</td><td>f64</td><td>f64</td><td>f64</td><td>f64</td><td>f64</td><td>f64</td><td>f64</td><td>f64</td><td>f64</td><td>f64</td><td>f64</td><td>f64</td><td>f64</td><td>f64</td><td>f64</td><td>f64</td><td>f64</td><td>f64</td><td>f64</td><td>f64</td><td>f64</td><td>f64</td><td>f64</td><td>f64</td><td>f64</td><td>f64</td><td>f64</td><td>f64</td><td>f64</td><td>f64</td></tr></thead><tbody><tr><td>&quot;all-MiniLM-L6-v2_title_euclide…</td><td>0.0</td><td>0.0</td><td>0.0</td><td>0.0</td><td>16.0</td><td>1.0</td><td>0.0</td><td>0.0</td><td>0.0</td><td>0.0</td><td>0.0</td><td>0.0</td><td>0.0</td><td>1.0</td><td>0.0</td><td>0.0</td><td>0.0</td><td>0.0</td><td>0.0</td><td>0.0</td><td>0.0</td><td>0.0</td><td>1.0</td><td>0.0</td><td>0.0</td><td>0.0</td><td>0.0</td><td>0.0</td><td>0.0</td><td>0.0</td><td>0.0</td><td>0.0</td><td>0.0</td><td>0.0</td><td>4.0</td><td>0.0</td><td>&hellip;</td><td>0.0</td><td>7.0</td><td>0.0</td><td>0.0</td><td>0.0</td><td>0.0</td><td>0.0</td><td>1.0</td><td>0.0</td><td>0.0</td><td>0.0</td><td>0.0</td><td>0.0</td><td>0.0</td><td>0.0</td><td>2.0</td><td>0.0</td><td>0.0</td><td>0.0</td><td>0.0</td><td>0.0</td><td>0.0</td><td>0.0</td><td>0.0</td><td>0.0</td><td>0.0</td><td>0.0</td><td>0.0</td><td>0.0</td><td>0.0</td><td>0.0</td><td>1.0</td><td>0.0</td><td>0.0</td><td>1.0</td><td>0.0</td><td>0.0</td></tr><tr><td>&quot;all-MiniLM-L6-v2_title_manhatt…</td><td>0.0</td><td>0.0</td><td>0.0</td><td>0.0</td><td>19.0</td><td>1.0</td><td>0.0</td><td>0.0</td><td>0.0</td><td>0.0</td><td>0.0</td><td>0.0</td><td>0.0</td><td>1.0</td><td>0.0</td><td>0.0</td><td>0.0</td><td>0.0</td><td>0.0</td><td>0.0</td><td>0.0</td><td>0.0</td><td>1.0</td><td>0.0</td><td>0.0</td><td>0.0</td><td>0.0</td><td>0.0</td><td>0.0</td><td>0.0</td><td>0.0</td><td>0.0</td><td>0.0</td><td>0.0</td><td>4.0</td><td>0.0</td><td>&hellip;</td><td>0.0</td><td>7.0</td><td>0.0</td><td>0.0</td><td>0.0</td><td>0.0</td><td>0.0</td><td>1.0</td><td>0.0</td><td>0.0</td><td>0.0</td><td>0.0</td><td>0.0</td><td>0.0</td><td>0.0</td><td>2.0</td><td>0.0</td><td>0.0</td><td>0.0</td><td>0.0</td><td>0.0</td><td>0.0</td><td>0.0</td><td>0.0</td><td>0.0</td><td>0.0</td><td>0.0</td><td>0.0</td><td>0.0</td><td>0.0</td><td>0.0</td><td>2.0</td><td>0.0</td><td>0.0</td><td>1.0</td><td>0.0</td><td>0.0</td></tr><tr><td>&quot;all-MiniLM-L6-v2_title_chebysh…</td><td>0.0</td><td>0.0</td><td>0.0</td><td>2.0</td><td>30.0</td><td>0.0</td><td>0.0</td><td>8.0</td><td>0.0</td><td>0.0</td><td>0.0</td><td>0.0</td><td>2.0</td><td>1.0</td><td>0.0</td><td>0.0</td><td>0.0</td><td>0.0</td><td>0.0</td><td>146.0</td><td>62.0</td><td>0.0</td><td>5.0</td><td>0.0</td><td>1.0</td><td>0.0</td><td>0.0</td><td>0.0</td><td>0.0</td><td>1.0</td><td>0.0</td><td>0.0</td><td>0.0</td><td>0.0</td><td>3.0</td><td>0.0</td><td>&hellip;</td><td>0.0</td><td>7.0</td><td>0.0</td><td>0.0</td><td>0.0</td><td>0.0</td><td>1.0</td><td>0.0</td><td>0.0</td><td>0.0</td><td>0.0</td><td>0.0</td><td>0.0</td><td>0.0</td><td>0.0</td><td>17.0</td><td>0.0</td><td>0.0</td><td>0.0</td><td>0.0</td><td>0.0</td><td>0.0</td><td>1.0</td><td>0.0</td><td>0.0</td><td>0.0</td><td>0.0</td><td>0.0</td><td>0.0</td><td>0.0</td><td>0.0</td><td>1.0</td><td>0.0</td><td>0.0</td><td>1.0</td><td>4.0</td><td>0.0</td></tr><tr><td>&quot;all-MiniLM-L6-v2_title_cos-sim&quot;</td><td>0.0</td><td>0.0</td><td>0.0</td><td>0.0</td><td>16.0</td><td>1.0</td><td>0.0</td><td>0.0</td><td>0.0</td><td>0.0</td><td>0.0</td><td>0.0</td><td>0.0</td><td>1.0</td><td>0.0</td><td>0.0</td><td>0.0</td><td>0.0</td><td>0.0</td><td>0.0</td><td>0.0</td><td>0.0</td><td>1.0</td><td>0.0</td><td>0.0</td><td>0.0</td><td>0.0</td><td>0.0</td><td>0.0</td><td>0.0</td><td>0.0</td><td>0.0</td><td>0.0</td><td>0.0</td><td>4.0</td><td>0.0</td><td>&hellip;</td><td>0.0</td><td>7.0</td><td>0.0</td><td>0.0</td><td>0.0</td><td>0.0</td><td>0.0</td><td>1.0</td><td>0.0</td><td>0.0</td><td>0.0</td><td>0.0</td><td>0.0</td><td>0.0</td><td>0.0</td><td>2.0</td><td>0.0</td><td>0.0</td><td>0.0</td><td>0.0</td><td>0.0</td><td>0.0</td><td>0.0</td><td>0.0</td><td>0.0</td><td>0.0</td><td>0.0</td><td>0.0</td><td>0.0</td><td>0.0</td><td>0.0</td><td>1.0</td><td>0.0</td><td>0.0</td><td>1.0</td><td>0.0</td><td>0.0</td></tr><tr><td>&quot;all-MiniLM-L6-v2_title_dot-sco…</td><td>0.0</td><td>0.0</td><td>0.0</td><td>0.0</td><td>16.0</td><td>1.0</td><td>0.0</td><td>0.0</td><td>0.0</td><td>0.0</td><td>0.0</td><td>0.0</td><td>0.0</td><td>1.0</td><td>0.0</td><td>0.0</td><td>0.0</td><td>0.0</td><td>0.0</td><td>0.0</td><td>0.0</td><td>0.0</td><td>1.0</td><td>0.0</td><td>0.0</td><td>0.0</td><td>0.0</td><td>0.0</td><td>0.0</td><td>0.0</td><td>0.0</td><td>0.0</td><td>0.0</td><td>0.0</td><td>4.0</td><td>0.0</td><td>&hellip;</td><td>0.0</td><td>7.0</td><td>0.0</td><td>0.0</td><td>0.0</td><td>0.0</td><td>0.0</td><td>1.0</td><td>0.0</td><td>0.0</td><td>0.0</td><td>0.0</td><td>0.0</td><td>0.0</td><td>0.0</td><td>2.0</td><td>0.0</td><td>0.0</td><td>0.0</td><td>0.0</td><td>0.0</td><td>0.0</td><td>0.0</td><td>0.0</td><td>0.0</td><td>0.0</td><td>0.0</td><td>0.0</td><td>0.0</td><td>0.0</td><td>0.0</td><td>1.0</td><td>0.0</td><td>0.0</td><td>1.0</td><td>0.0</td><td>0.0</td></tr></tbody></table></div>"
      ],
      "text/plain": [
       "shape: (5, 213)\n",
       "┌───────────┬───────────┬───────────┬───────────┬───┬───────────┬───────────┬───────────┬──────────┐\n",
       "│ method_na ┆ rank_quer ┆ rank_quer ┆ rank_quer ┆ … ┆ rank_quer ┆ rank_quer ┆ rank_quer ┆ rank_que │\n",
       "│ me        ┆ y-0       ┆ y-1       ┆ y-2       ┆   ┆ y-208     ┆ y-209     ┆ y-210     ┆ ry-211   │\n",
       "│ ---       ┆ ---       ┆ ---       ┆ ---       ┆   ┆ ---       ┆ ---       ┆ ---       ┆ ---      │\n",
       "│ str       ┆ f64       ┆ f64       ┆ f64       ┆   ┆ f64       ┆ f64       ┆ f64       ┆ f64      │\n",
       "╞═══════════╪═══════════╪═══════════╪═══════════╪═══╪═══════════╪═══════════╪═══════════╪══════════╡\n",
       "│ all-MiniL ┆ 0.0       ┆ 0.0       ┆ 0.0       ┆ … ┆ 0.0       ┆ 1.0       ┆ 0.0       ┆ 0.0      │\n",
       "│ M-L6-v2_t ┆           ┆           ┆           ┆   ┆           ┆           ┆           ┆          │\n",
       "│ itle_eucl ┆           ┆           ┆           ┆   ┆           ┆           ┆           ┆          │\n",
       "│ ide…      ┆           ┆           ┆           ┆   ┆           ┆           ┆           ┆          │\n",
       "│ all-MiniL ┆ 0.0       ┆ 0.0       ┆ 0.0       ┆ … ┆ 0.0       ┆ 1.0       ┆ 0.0       ┆ 0.0      │\n",
       "│ M-L6-v2_t ┆           ┆           ┆           ┆   ┆           ┆           ┆           ┆          │\n",
       "│ itle_manh ┆           ┆           ┆           ┆   ┆           ┆           ┆           ┆          │\n",
       "│ att…      ┆           ┆           ┆           ┆   ┆           ┆           ┆           ┆          │\n",
       "│ all-MiniL ┆ 0.0       ┆ 0.0       ┆ 0.0       ┆ … ┆ 0.0       ┆ 1.0       ┆ 4.0       ┆ 0.0      │\n",
       "│ M-L6-v2_t ┆           ┆           ┆           ┆   ┆           ┆           ┆           ┆          │\n",
       "│ itle_cheb ┆           ┆           ┆           ┆   ┆           ┆           ┆           ┆          │\n",
       "│ ysh…      ┆           ┆           ┆           ┆   ┆           ┆           ┆           ┆          │\n",
       "│ all-MiniL ┆ 0.0       ┆ 0.0       ┆ 0.0       ┆ … ┆ 0.0       ┆ 1.0       ┆ 0.0       ┆ 0.0      │\n",
       "│ M-L6-v2_t ┆           ┆           ┆           ┆   ┆           ┆           ┆           ┆          │\n",
       "│ itle_cos- ┆           ┆           ┆           ┆   ┆           ┆           ┆           ┆          │\n",
       "│ sim       ┆           ┆           ┆           ┆   ┆           ┆           ┆           ┆          │\n",
       "│ all-MiniL ┆ 0.0       ┆ 0.0       ┆ 0.0       ┆ … ┆ 0.0       ┆ 1.0       ┆ 0.0       ┆ 0.0      │\n",
       "│ M-L6-v2_t ┆           ┆           ┆           ┆   ┆           ┆           ┆           ┆          │\n",
       "│ itle_dot- ┆           ┆           ┆           ┆   ┆           ┆           ┆           ┆          │\n",
       "│ sco…      ┆           ┆           ┆           ┆   ┆           ┆           ┆           ┆          │\n",
       "└───────────┴───────────┴───────────┴───────────┴───┴───────────┴───────────┴───────────┴──────────┘"
      ]
     },
     "execution_count": 20,
     "metadata": {},
     "output_type": "execute_result"
    }
   ],
   "source": [
    "# define schema for results dataframe\n",
    "schema_dict = {'method_name':str}\n",
    "for i in range(len(eval_results[0])-1):\n",
    "    schema_dict['rank_query-'+str(i)] = float\n",
    "\n",
    "# store results in dataframe\n",
    "df_results = pl.DataFrame(eval_results, schema=schema_dict)\n",
    "df_results.head()"
   ]
  },
  {
   "cell_type": "code",
   "execution_count": 21,
   "id": "730beb96",
   "metadata": {},
   "outputs": [],
   "source": [
    "# compute mean rankings of ground truth search result\n",
    "df_results = df_results.with_columns(new_col=pl.mean_horizontal(df_results.columns[1:])).rename({\"new_col\": \"rank_query-mean\"})"
   ]
  },
  {
   "cell_type": "code",
   "execution_count": 22,
   "id": "d45238e2",
   "metadata": {},
   "outputs": [],
   "source": [
    "# compute number of ground truth results which appear in top 3\n",
    "for i in [1,3]:\n",
    "    df_results = df_results.with_columns(new_col=pl.sum_horizontal(df_results[:,1:-1]<i)).rename({\"new_col\": \"num_in_top-\"+str(i)})"
   ]
  },
  {
   "cell_type": "markdown",
   "id": "024dbb6f",
   "metadata": {},
   "source": [
    "### Top Results"
   ]
  },
  {
   "cell_type": "code",
   "execution_count": 23,
   "id": "b713ed5e",
   "metadata": {},
   "outputs": [],
   "source": [
    "df_summary = df_results[['method_name', \"rank_query-mean\", \"num_in_top-1\", \"num_in_top-3\"]]"
   ]
  },
  {
   "cell_type": "code",
   "execution_count": 24,
   "id": "8749fbc6",
   "metadata": {},
   "outputs": [
    {
     "name": "stdout",
     "output_type": "stream",
     "text": [
      "shape: (5, 4)\n",
      "┌─────────────────────────────────┬─────────────────┬──────────────┬──────────────┐\n",
      "│ method_name                     ┆ rank_query-mean ┆ num_in_top-1 ┆ num_in_top-3 │\n",
      "│ ---                             ┆ ---             ┆ ---          ┆ ---          │\n",
      "│ str                             ┆ f64             ┆ u32          ┆ u32          │\n",
      "╞═════════════════════════════════╪═════════════════╪══════════════╪══════════════╡\n",
      "│ multi-qa-distilbert-cos-v1_tit… ┆ 0.264151        ┆ 183          ┆ 207          │\n",
      "│ multi-qa-distilbert-cos-v1_tit… ┆ 0.264151        ┆ 183          ┆ 207          │\n",
      "│ multi-qa-distilbert-cos-v1_tit… ┆ 0.264151        ┆ 183          ┆ 207          │\n",
      "│ multi-qa-distilbert-cos-v1_tit… ┆ 0.268868        ┆ 182          ┆ 208          │\n",
      "│ multi-qa-mpnet-base-dot-v1_tit… ┆ 0.292453        ┆ 178          ┆ 207          │\n",
      "└─────────────────────────────────┴─────────────────┴──────────────┴──────────────┘\n"
     ]
    }
   ],
   "source": [
    "print(df_summary.sort('rank_query-mean').head())"
   ]
  },
  {
   "cell_type": "code",
   "execution_count": 25,
   "id": "85e3cee5",
   "metadata": {},
   "outputs": [
    {
     "data": {
      "text/plain": [
       "'multi-qa-distilbert-cos-v1_title_euclidean'"
      ]
     },
     "execution_count": 25,
     "metadata": {},
     "output_type": "execute_result"
    }
   ],
   "source": [
    "df_summary.sort('rank_query-mean').head()[0,0]"
   ]
  },
  {
   "cell_type": "code",
   "execution_count": 26,
   "id": "bbf14edf",
   "metadata": {},
   "outputs": [
    {
     "name": "stdout",
     "output_type": "stream",
     "text": [
      "shape: (5, 4)\n",
      "┌─────────────────────────────────┬─────────────────┬──────────────┬──────────────┐\n",
      "│ method_name                     ┆ rank_query-mean ┆ num_in_top-1 ┆ num_in_top-3 │\n",
      "│ ---                             ┆ ---             ┆ ---          ┆ ---          │\n",
      "│ str                             ┆ f64             ┆ u32          ┆ u32          │\n",
      "╞═════════════════════════════════╪═════════════════╪══════════════╪══════════════╡\n",
      "│ multi-qa-distilbert-cos-v1_tit… ┆ 0.264151        ┆ 183          ┆ 207          │\n",
      "│ multi-qa-distilbert-cos-v1_tit… ┆ 0.264151        ┆ 183          ┆ 207          │\n",
      "│ multi-qa-distilbert-cos-v1_tit… ┆ 0.264151        ┆ 183          ┆ 207          │\n",
      "│ multi-qa-distilbert-cos-v1_tit… ┆ 0.268868        ┆ 182          ┆ 208          │\n",
      "│ multi-qa-distilbert-cos-v1_tit… ┆ 0.358491        ┆ 181          ┆ 206          │\n",
      "└─────────────────────────────────┴─────────────────┴──────────────┴──────────────┘\n"
     ]
    }
   ],
   "source": [
    "print(df_summary.sort(\"num_in_top-1\", descending=True).head())"
   ]
  },
  {
   "cell_type": "code",
   "execution_count": 27,
   "id": "ca3b8657",
   "metadata": {},
   "outputs": [
    {
     "data": {
      "text/plain": [
       "'multi-qa-distilbert-cos-v1_title_euclidean'"
      ]
     },
     "execution_count": 27,
     "metadata": {},
     "output_type": "execute_result"
    }
   ],
   "source": [
    "df_summary.sort(\"num_in_top-1\", descending=True).head()[0,0]"
   ]
  },
  {
   "cell_type": "code",
   "execution_count": 28,
   "id": "9f6ea0b2",
   "metadata": {},
   "outputs": [
    {
     "name": "stdout",
     "output_type": "stream",
     "text": [
      "shape: (5, 4)\n",
      "┌─────────────────────────────────┬─────────────────┬──────────────┬──────────────┐\n",
      "│ method_name                     ┆ rank_query-mean ┆ num_in_top-1 ┆ num_in_top-3 │\n",
      "│ ---                             ┆ ---             ┆ ---          ┆ ---          │\n",
      "│ str                             ┆ f64             ┆ u32          ┆ u32          │\n",
      "╞═════════════════════════════════╪═════════════════╪══════════════╪══════════════╡\n",
      "│ all-MiniLM-L6-v2_title_manhatt… ┆ 0.334906        ┆ 179          ┆ 208          │\n",
      "│ multi-qa-distilbert-cos-v1_tit… ┆ 0.268868        ┆ 182          ┆ 208          │\n",
      "│ all-MiniLM-L6-v2_title_euclide… ┆ 0.334906        ┆ 177          ┆ 207          │\n",
      "│ all-MiniLM-L6-v2_title_cos-sim  ┆ 0.334906        ┆ 177          ┆ 207          │\n",
      "│ all-MiniLM-L6-v2_title_dot-sco… ┆ 0.334906        ┆ 177          ┆ 207          │\n",
      "└─────────────────────────────────┴─────────────────┴──────────────┴──────────────┘\n"
     ]
    }
   ],
   "source": [
    "print(df_summary.sort(\"num_in_top-3\", descending=True).head())"
   ]
  },
  {
   "cell_type": "code",
   "execution_count": 29,
   "id": "7ee92f5a",
   "metadata": {},
   "outputs": [
    {
     "data": {
      "text/plain": [
       "'all-MiniLM-L6-v2_title_manhattan'"
      ]
     },
     "execution_count": 29,
     "metadata": {},
     "output_type": "execute_result"
    }
   ],
   "source": [
    "df_summary.sort(\"num_in_top-3\", descending=True).head()[0,0]"
   ]
  },
  {
   "cell_type": "code",
   "execution_count": 30,
   "id": "74e13d0e",
   "metadata": {},
   "outputs": [
    {
     "name": "stdout",
     "output_type": "stream",
     "text": [
      "all-MiniLM-L6-v2_title_manhattan\n",
      "multi-qa-distilbert-cos-v1_title_manhattan\n",
      "all-MiniLM-L6-v2_title_euclidean\n",
      "all-MiniLM-L6-v2_title_cos-sim\n"
     ]
    }
   ],
   "source": [
    "for i in range(4):\n",
    "    print(df_summary.sort(\"num_in_top-3\", descending=True)['method_name'][i])"
   ]
  }
 ],
 "metadata": {
  "kernelspec": {
   "display_name": "proj_one",
   "language": "python",
   "name": "python3"
  },
  "language_info": {
   "codemirror_mode": {
    "name": "ipython",
    "version": 3
   },
   "file_extension": ".py",
   "mimetype": "text/x-python",
   "name": "python",
   "nbconvert_exporter": "python",
   "pygments_lexer": "ipython3",
   "version": "3.11.9"
  }
 },
 "nbformat": 4,
 "nbformat_minor": 5
}
