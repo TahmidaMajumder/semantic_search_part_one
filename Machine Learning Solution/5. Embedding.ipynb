{
 "cells": [
  {
   "cell_type": "markdown",
   "id": "b3927af4-d9b3-4c55-b474-9e6bbd96d31a",
   "metadata": {},
   "source": [
    "# Create video index"
   ]
  },
  {
   "cell_type": "markdown",
   "id": "c390f373-bc68-459d-bb05-83123601e886",
   "metadata": {},
   "source": [
    "### Imports"
   ]
  },
  {
   "cell_type": "code",
   "execution_count": 1,
   "id": "c38e83e5-34c2-4896-85ab-43f3202da02e",
   "metadata": {},
   "outputs": [
    {
     "name": "stderr",
     "output_type": "stream",
     "text": [
      "e:\\Semantic Search YouTube Channel Part One\\proj_one\\Lib\\site-packages\\tqdm\\auto.py:21: TqdmWarning: IProgress not found. Please update jupyter and ipywidgets. See https://ipywidgets.readthedocs.io/en/stable/user_install.html\n",
      "  from .autonotebook import tqdm as notebook_tqdm\n"
     ]
    }
   ],
   "source": [
    "import polars as pl\n",
    "from sentence_transformers import SentenceTransformer"
   ]
  },
  {
   "cell_type": "markdown",
   "id": "8f5b6d27-5021-429d-be84-a56d9de62318",
   "metadata": {},
   "source": [
    "### Load Data"
   ]
  },
  {
   "cell_type": "code",
   "execution_count": null,
   "id": "305c3d30-29c7-4f2b-aa7d-f5591d132d48",
   "metadata": {},
   "outputs": [
    {
     "data": {
      "text/html": [
       "<div><style>\n",
       ".dataframe > thead > tr,\n",
       ".dataframe > tbody > tr {\n",
       "  text-align: right;\n",
       "  white-space: pre-wrap;\n",
       "}\n",
       "</style>\n",
       "<small>shape: (5, 4)</small><table border=\"1\" class=\"dataframe\"><thead><tr><th>video_id</th><th>datetime</th><th>title</th><th>transcript</th></tr><tr><td>str</td><td>datetime[μs]</td><td>str</td><td>str</td></tr></thead><tbody><tr><td>&quot;qPN_XZcJf_s&quot;</td><td>2025-05-05 04:01:03</td><td>&quot;Reinforcement Learning with Hu…</td><td>&quot;If you tell me what you like a…</td></tr><tr><td>&quot;DVGmsnxB2UQ&quot;</td><td>2025-04-14 04:00:27</td><td>&quot;Reinforcement Learning with Ne…</td><td>&quot;if you make a guess and you ma…</td></tr><tr><td>&quot;9hbQieQh7-o&quot;</td><td>2025-04-07 04:00:17</td><td>&quot;Reinforcement Learning with Ne…</td><td>&quot;When you don&#x27;t know, take a gu…</td></tr><tr><td>&quot;Z-T0iJEXiwM&quot;</td><td>2025-03-31 04:00:25</td><td>&quot;Reinforcement Learning: Essent…</td><td>&quot;reinforcement learning it&#x27;s ju…</td></tr><tr><td>&quot;_kstkMF-lQQ&quot;</td><td>2025-02-12 14:20:19</td><td>&quot;StatQuest on DeepLearning.AI!!…</td><td>&quot;the encoder model was used as …</td></tr></tbody></table></div>"
      ],
      "text/plain": [
       "shape: (5, 4)\n",
       "┌─────────────┬─────────────────────┬───────────────────────────────┬──────────────────────────────┐\n",
       "│ video_id    ┆ datetime            ┆ title                         ┆ transcript                   │\n",
       "│ ---         ┆ ---                 ┆ ---                           ┆ ---                          │\n",
       "│ str         ┆ datetime[μs]        ┆ str                           ┆ str                          │\n",
       "╞═════════════╪═════════════════════╪═══════════════════════════════╪══════════════════════════════╡\n",
       "│ qPN_XZcJf_s ┆ 2025-05-05 04:01:03 ┆ Reinforcement Learning with   ┆ If you tell me what you like │\n",
       "│             ┆                     ┆ Hu…                           ┆ a…                           │\n",
       "│ DVGmsnxB2UQ ┆ 2025-04-14 04:00:27 ┆ Reinforcement Learning with   ┆ if you make a guess and you  │\n",
       "│             ┆                     ┆ Ne…                           ┆ ma…                          │\n",
       "│ 9hbQieQh7-o ┆ 2025-04-07 04:00:17 ┆ Reinforcement Learning with   ┆ When you don't know, take a  │\n",
       "│             ┆                     ┆ Ne…                           ┆ gu…                          │\n",
       "│ Z-T0iJEXiwM ┆ 2025-03-31 04:00:25 ┆ Reinforcement Learning:       ┆ reinforcement learning it's  │\n",
       "│             ┆                     ┆ Essent…                       ┆ ju…                          │\n",
       "│ _kstkMF-lQQ ┆ 2025-02-12 14:20:19 ┆ StatQuest on                  ┆ the encoder model was used   │\n",
       "│             ┆                     ┆ DeepLearning.AI!!…            ┆ as …                         │\n",
       "└─────────────┴─────────────────────┴───────────────────────────────┴──────────────────────────────┘"
      ]
     },
     "execution_count": 2,
     "metadata": {},
     "output_type": "execute_result"
    }
   ],
   "source": [
    "df = pl.read_parquet('data/video-transcripts.parquet')\n",
    "df.head()"
   ]
  },
  {
   "cell_type": "markdown",
   "id": "186665dc-3932-4228-9618-088a07a9d601",
   "metadata": {},
   "source": [
    "### Embed titles and transcripts (even data in eval might not represent real life scenario)"
   ]
  },
  {
   "cell_type": "code",
   "execution_count": 3,
   "id": "e46725ac-3aa1-492c-8754-ce6a9e4dd772",
   "metadata": {},
   "outputs": [],
   "source": [
    "model_name = 'all-MiniLM-L6-v2'\n",
    "column_name_list = ['title', 'transcript']"
   ]
  },
  {
   "cell_type": "code",
   "execution_count": 4,
   "id": "f217c7a9-f0a4-4bbf-8283-efd7309cd612",
   "metadata": {},
   "outputs": [],
   "source": [
    "model = SentenceTransformer(model_name)\n",
    "\n",
    "for column_name in column_name_list:\n",
    "    # generate embeddings\n",
    "    embedding_arr = model.encode(df[column_name].to_list())\n",
    "\n",
    "    # store embeddings in a dataframe\n",
    "    schema_dict = {column_name+'_embedding-'+str(i): float for i in range(embedding_arr.shape[1])}\n",
    "    df_embedding = pl.DataFrame(embedding_arr, schema=schema_dict)\n",
    "\n",
    "    # append embeddings to video index\n",
    "    df = pl.concat([df, df_embedding], how='horizontal')"
   ]
  },
  {
   "cell_type": "code",
   "execution_count": 5,
   "id": "fefe146e-712f-462b-8f7f-d5e0fda0723f",
   "metadata": {},
   "outputs": [
    {
     "data": {
      "text/plain": [
       "(269, 772)"
      ]
     },
     "execution_count": 5,
     "metadata": {},
     "output_type": "execute_result"
    }
   ],
   "source": [
    "df.shape"
   ]
  },
  {
   "cell_type": "code",
   "execution_count": 6,
   "id": "15b440c8-7b54-4bd6-a132-c04db48aa79d",
   "metadata": {},
   "outputs": [
    {
     "data": {
      "text/html": [
       "<div><style>\n",
       ".dataframe > thead > tr,\n",
       ".dataframe > tbody > tr {\n",
       "  text-align: right;\n",
       "  white-space: pre-wrap;\n",
       "}\n",
       "</style>\n",
       "<small>shape: (5, 772)</small><table border=\"1\" class=\"dataframe\"><thead><tr><th>video_id</th><th>datetime</th><th>title</th><th>transcript</th><th>title_embedding-0</th><th>title_embedding-1</th><th>title_embedding-2</th><th>title_embedding-3</th><th>title_embedding-4</th><th>title_embedding-5</th><th>title_embedding-6</th><th>title_embedding-7</th><th>title_embedding-8</th><th>title_embedding-9</th><th>title_embedding-10</th><th>title_embedding-11</th><th>title_embedding-12</th><th>title_embedding-13</th><th>title_embedding-14</th><th>title_embedding-15</th><th>title_embedding-16</th><th>title_embedding-17</th><th>title_embedding-18</th><th>title_embedding-19</th><th>title_embedding-20</th><th>title_embedding-21</th><th>title_embedding-22</th><th>title_embedding-23</th><th>title_embedding-24</th><th>title_embedding-25</th><th>title_embedding-26</th><th>title_embedding-27</th><th>title_embedding-28</th><th>title_embedding-29</th><th>title_embedding-30</th><th>title_embedding-31</th><th>title_embedding-32</th><th>&hellip;</th><th>transcript_embedding-347</th><th>transcript_embedding-348</th><th>transcript_embedding-349</th><th>transcript_embedding-350</th><th>transcript_embedding-351</th><th>transcript_embedding-352</th><th>transcript_embedding-353</th><th>transcript_embedding-354</th><th>transcript_embedding-355</th><th>transcript_embedding-356</th><th>transcript_embedding-357</th><th>transcript_embedding-358</th><th>transcript_embedding-359</th><th>transcript_embedding-360</th><th>transcript_embedding-361</th><th>transcript_embedding-362</th><th>transcript_embedding-363</th><th>transcript_embedding-364</th><th>transcript_embedding-365</th><th>transcript_embedding-366</th><th>transcript_embedding-367</th><th>transcript_embedding-368</th><th>transcript_embedding-369</th><th>transcript_embedding-370</th><th>transcript_embedding-371</th><th>transcript_embedding-372</th><th>transcript_embedding-373</th><th>transcript_embedding-374</th><th>transcript_embedding-375</th><th>transcript_embedding-376</th><th>transcript_embedding-377</th><th>transcript_embedding-378</th><th>transcript_embedding-379</th><th>transcript_embedding-380</th><th>transcript_embedding-381</th><th>transcript_embedding-382</th><th>transcript_embedding-383</th></tr><tr><td>str</td><td>datetime[μs]</td><td>str</td><td>str</td><td>f64</td><td>f64</td><td>f64</td><td>f64</td><td>f64</td><td>f64</td><td>f64</td><td>f64</td><td>f64</td><td>f64</td><td>f64</td><td>f64</td><td>f64</td><td>f64</td><td>f64</td><td>f64</td><td>f64</td><td>f64</td><td>f64</td><td>f64</td><td>f64</td><td>f64</td><td>f64</td><td>f64</td><td>f64</td><td>f64</td><td>f64</td><td>f64</td><td>f64</td><td>f64</td><td>f64</td><td>f64</td><td>f64</td><td>&hellip;</td><td>f64</td><td>f64</td><td>f64</td><td>f64</td><td>f64</td><td>f64</td><td>f64</td><td>f64</td><td>f64</td><td>f64</td><td>f64</td><td>f64</td><td>f64</td><td>f64</td><td>f64</td><td>f64</td><td>f64</td><td>f64</td><td>f64</td><td>f64</td><td>f64</td><td>f64</td><td>f64</td><td>f64</td><td>f64</td><td>f64</td><td>f64</td><td>f64</td><td>f64</td><td>f64</td><td>f64</td><td>f64</td><td>f64</td><td>f64</td><td>f64</td><td>f64</td><td>f64</td></tr></thead><tbody><tr><td>&quot;qPN_XZcJf_s&quot;</td><td>2025-05-05 04:01:03</td><td>&quot;Reinforcement Learning with Hu…</td><td>&quot;If you tell me what you like a…</td><td>-0.045773</td><td>-0.035362</td><td>0.01674</td><td>0.022222</td><td>0.030434</td><td>0.036626</td><td>0.019937</td><td>-0.023566</td><td>0.037335</td><td>0.069336</td><td>-0.020144</td><td>0.021346</td><td>0.070331</td><td>-0.021366</td><td>-0.079474</td><td>-0.02359</td><td>-0.018571</td><td>-0.009298</td><td>-0.108042</td><td>-0.06373</td><td>0.034273</td><td>-0.044438</td><td>0.019637</td><td>0.008817</td><td>-0.037196</td><td>0.049993</td><td>-0.075927</td><td>0.04082</td><td>0.040253</td><td>-0.067781</td><td>0.090154</td><td>0.051394</td><td>0.059853</td><td>&hellip;</td><td>0.049012</td><td>-0.024015</td><td>-0.047154</td><td>0.021765</td><td>-0.011637</td><td>-0.003636</td><td>-0.012746</td><td>0.079373</td><td>0.043273</td><td>0.089281</td><td>-0.101504</td><td>0.014149</td><td>-0.043612</td><td>0.014073</td><td>0.081181</td><td>0.035665</td><td>-0.062193</td><td>-0.018225</td><td>0.010093</td><td>-0.083076</td><td>-0.176627</td><td>0.011708</td><td>0.015269</td><td>0.005692</td><td>-0.035475</td><td>-0.04263</td><td>0.029167</td><td>0.071651</td><td>0.063172</td><td>-0.015163</td><td>-0.005227</td><td>-0.013139</td><td>0.074127</td><td>-0.038681</td><td>0.093997</td><td>-0.085132</td><td>0.041956</td></tr><tr><td>&quot;DVGmsnxB2UQ&quot;</td><td>2025-04-14 04:00:27</td><td>&quot;Reinforcement Learning with Ne…</td><td>&quot;if you make a guess and you ma…</td><td>-0.082494</td><td>-0.031723</td><td>0.05576</td><td>-0.005752</td><td>-0.060275</td><td>0.061898</td><td>0.00661</td><td>0.032123</td><td>-0.031807</td><td>0.010386</td><td>0.013829</td><td>0.047611</td><td>0.040107</td><td>0.006958</td><td>-0.10259</td><td>0.120285</td><td>-0.048499</td><td>0.004799</td><td>-0.085534</td><td>-0.026357</td><td>-0.013926</td><td>-0.046285</td><td>-0.010812</td><td>0.008536</td><td>0.048341</td><td>0.055112</td><td>0.005201</td><td>0.036438</td><td>0.007815</td><td>-0.011717</td><td>0.08255</td><td>-0.085784</td><td>0.058793</td><td>&hellip;</td><td>0.063242</td><td>0.023437</td><td>0.041904</td><td>0.073757</td><td>-0.018452</td><td>0.024691</td><td>0.017287</td><td>0.103366</td><td>0.043934</td><td>0.036895</td><td>-0.013792</td><td>0.007746</td><td>-0.064714</td><td>-0.079728</td><td>-0.033936</td><td>0.060437</td><td>-0.031876</td><td>-0.031068</td><td>0.013123</td><td>-0.088113</td><td>-0.068544</td><td>0.008913</td><td>-0.005257</td><td>0.045811</td><td>0.053224</td><td>-0.009161</td><td>0.071515</td><td>0.053964</td><td>-0.096705</td><td>-0.001729</td><td>-0.136912</td><td>-0.049363</td><td>0.07667</td><td>0.006123</td><td>0.065792</td><td>-0.046093</td><td>-0.025636</td></tr><tr><td>&quot;9hbQieQh7-o&quot;</td><td>2025-04-07 04:00:17</td><td>&quot;Reinforcement Learning with Ne…</td><td>&quot;When you don&#x27;t know, take a gu…</td><td>-0.074848</td><td>-0.060101</td><td>0.032145</td><td>-0.033778</td><td>-0.034553</td><td>0.066329</td><td>0.087384</td><td>-0.010923</td><td>-0.030688</td><td>0.024141</td><td>-0.01432</td><td>0.04973</td><td>0.010701</td><td>-0.033269</td><td>-0.083447</td><td>0.016995</td><td>0.002283</td><td>-0.015884</td><td>-0.112428</td><td>-0.051657</td><td>0.013384</td><td>-0.061633</td><td>-0.016856</td><td>-0.018731</td><td>-0.024453</td><td>0.067897</td><td>0.001593</td><td>0.060971</td><td>0.041908</td><td>-0.02969</td><td>0.083843</td><td>-0.059907</td><td>0.051653</td><td>&hellip;</td><td>0.039565</td><td>0.050846</td><td>0.040488</td><td>0.082357</td><td>0.016336</td><td>0.005515</td><td>0.007982</td><td>0.086907</td><td>0.09247</td><td>0.040171</td><td>-0.047112</td><td>-0.054824</td><td>-0.031779</td><td>-0.038711</td><td>0.000213</td><td>0.058527</td><td>0.006905</td><td>-0.011886</td><td>-0.026403</td><td>-0.048213</td><td>-0.076524</td><td>0.024739</td><td>-0.059035</td><td>0.043971</td><td>-0.022064</td><td>-0.010944</td><td>0.065385</td><td>0.064695</td><td>-0.033358</td><td>-0.019673</td><td>-0.072128</td><td>-0.036346</td><td>0.11036</td><td>0.027279</td><td>0.085054</td><td>-0.081458</td><td>-0.05277</td></tr><tr><td>&quot;Z-T0iJEXiwM&quot;</td><td>2025-03-31 04:00:25</td><td>&quot;Reinforcement Learning: Essent…</td><td>&quot;reinforcement learning it&#x27;s ju…</td><td>-0.015067</td><td>-0.004333</td><td>0.008825</td><td>-0.028864</td><td>-0.041984</td><td>0.028431</td><td>0.0733</td><td>-0.029926</td><td>-0.015934</td><td>0.063034</td><td>-0.002536</td><td>0.047227</td><td>0.014705</td><td>-0.018988</td><td>-0.001431</td><td>-0.024885</td><td>0.013991</td><td>0.020439</td><td>-0.110063</td><td>-0.104455</td><td>0.017395</td><td>-0.040076</td><td>-0.014649</td><td>-0.011022</td><td>-0.078105</td><td>0.06714</td><td>0.011409</td><td>0.068845</td><td>0.074359</td><td>-0.068755</td><td>0.067044</td><td>-0.003313</td><td>0.083593</td><td>&hellip;</td><td>-0.002136</td><td>0.032669</td><td>0.03905</td><td>0.029078</td><td>-0.061164</td><td>0.017348</td><td>-0.003463</td><td>0.140296</td><td>-0.054597</td><td>0.022996</td><td>-0.04742</td><td>0.016381</td><td>-0.029903</td><td>-0.109157</td><td>-0.033581</td><td>0.048115</td><td>0.031936</td><td>-0.077697</td><td>0.001789</td><td>-0.109485</td><td>0.008454</td><td>0.030693</td><td>0.02833</td><td>-0.025492</td><td>-0.058461</td><td>0.00634</td><td>0.010639</td><td>0.104263</td><td>-0.054356</td><td>-0.003619</td><td>-0.044489</td><td>0.045421</td><td>0.120995</td><td>0.043946</td><td>0.05697</td><td>-0.088908</td><td>0.011949</td></tr><tr><td>&quot;_kstkMF-lQQ&quot;</td><td>2025-02-12 14:20:19</td><td>&quot;StatQuest on DeepLearning.AI!!…</td><td>&quot;the encoder model was used as …</td><td>-0.018511</td><td>-0.118259</td><td>-0.017914</td><td>-0.004275</td><td>0.004172</td><td>0.007538</td><td>-0.051015</td><td>-0.014277</td><td>-0.068753</td><td>0.00051</td><td>-0.048604</td><td>-0.046289</td><td>-0.037247</td><td>-0.009776</td><td>-0.082343</td><td>0.001161</td><td>-0.005324</td><td>0.064697</td><td>-0.128199</td><td>-0.076982</td><td>0.020576</td><td>-0.004608</td><td>0.028616</td><td>-0.087685</td><td>0.053808</td><td>0.014983</td><td>0.06356</td><td>-0.066436</td><td>-0.015298</td><td>-0.04563</td><td>0.001485</td><td>0.060205</td><td>0.0494</td><td>&hellip;</td><td>0.110088</td><td>0.029156</td><td>0.014005</td><td>0.027127</td><td>0.073092</td><td>0.012903</td><td>-0.057203</td><td>0.022623</td><td>0.064149</td><td>-0.005043</td><td>-0.107489</td><td>-0.016272</td><td>0.043243</td><td>0.083965</td><td>0.045502</td><td>-0.050706</td><td>0.04154</td><td>0.094311</td><td>0.10044</td><td>0.015832</td><td>-0.048033</td><td>-0.017098</td><td>0.025265</td><td>0.017955</td><td>-0.052148</td><td>-0.055641</td><td>0.032853</td><td>-0.041743</td><td>0.033333</td><td>-0.024929</td><td>-0.029056</td><td>0.031726</td><td>-0.018474</td><td>-0.010247</td><td>0.084994</td><td>-0.059909</td><td>0.077756</td></tr></tbody></table></div>"
      ],
      "text/plain": [
       "shape: (5, 772)\n",
       "┌───────────┬───────────┬───────────┬───────────┬───┬───────────┬───────────┬───────────┬──────────┐\n",
       "│ video_id  ┆ datetime  ┆ title     ┆ transcrip ┆ … ┆ transcrip ┆ transcrip ┆ transcrip ┆ transcri │\n",
       "│ ---       ┆ ---       ┆ ---       ┆ t         ┆   ┆ t_embeddi ┆ t_embeddi ┆ t_embeddi ┆ pt_embed │\n",
       "│ str       ┆ datetime[ ┆ str       ┆ ---       ┆   ┆ ng-380    ┆ ng-381    ┆ ng-382    ┆ ding-383 │\n",
       "│           ┆ μs]       ┆           ┆ str       ┆   ┆ ---       ┆ ---       ┆ ---       ┆ ---      │\n",
       "│           ┆           ┆           ┆           ┆   ┆ f64       ┆ f64       ┆ f64       ┆ f64      │\n",
       "╞═══════════╪═══════════╪═══════════╪═══════════╪═══╪═══════════╪═══════════╪═══════════╪══════════╡\n",
       "│ qPN_XZcJf ┆ 2025-05-0 ┆ Reinforce ┆ If you    ┆ … ┆ -0.038681 ┆ 0.093997  ┆ -0.085132 ┆ 0.041956 │\n",
       "│ _s        ┆ 5         ┆ ment      ┆ tell me   ┆   ┆           ┆           ┆           ┆          │\n",
       "│           ┆ 04:01:03  ┆ Learning  ┆ what you  ┆   ┆           ┆           ┆           ┆          │\n",
       "│           ┆           ┆ with Hu…  ┆ like a…   ┆   ┆           ┆           ┆           ┆          │\n",
       "│ DVGmsnxB2 ┆ 2025-04-1 ┆ Reinforce ┆ if you    ┆ … ┆ 0.006123  ┆ 0.065792  ┆ -0.046093 ┆ -0.02563 │\n",
       "│ UQ        ┆ 4         ┆ ment      ┆ make a    ┆   ┆           ┆           ┆           ┆ 6        │\n",
       "│           ┆ 04:00:27  ┆ Learning  ┆ guess and ┆   ┆           ┆           ┆           ┆          │\n",
       "│           ┆           ┆ with Ne…  ┆ you ma…   ┆   ┆           ┆           ┆           ┆          │\n",
       "│ 9hbQieQh7 ┆ 2025-04-0 ┆ Reinforce ┆ When you  ┆ … ┆ 0.027279  ┆ 0.085054  ┆ -0.081458 ┆ -0.05277 │\n",
       "│ -o        ┆ 7         ┆ ment      ┆ don't     ┆   ┆           ┆           ┆           ┆          │\n",
       "│           ┆ 04:00:17  ┆ Learning  ┆ know,     ┆   ┆           ┆           ┆           ┆          │\n",
       "│           ┆           ┆ with Ne…  ┆ take a    ┆   ┆           ┆           ┆           ┆          │\n",
       "│           ┆           ┆           ┆ gu…       ┆   ┆           ┆           ┆           ┆          │\n",
       "│ Z-T0iJEXi ┆ 2025-03-3 ┆ Reinforce ┆ reinforce ┆ … ┆ 0.043946  ┆ 0.05697   ┆ -0.088908 ┆ 0.011949 │\n",
       "│ wM        ┆ 1         ┆ ment      ┆ ment      ┆   ┆           ┆           ┆           ┆          │\n",
       "│           ┆ 04:00:25  ┆ Learning: ┆ learning  ┆   ┆           ┆           ┆           ┆          │\n",
       "│           ┆           ┆ Essent…   ┆ it's ju…  ┆   ┆           ┆           ┆           ┆          │\n",
       "│ _kstkMF-l ┆ 2025-02-1 ┆ StatQuest ┆ the       ┆ … ┆ -0.010247 ┆ 0.084994  ┆ -0.059909 ┆ 0.077756 │\n",
       "│ QQ        ┆ 2         ┆ on DeepLe ┆ encoder   ┆   ┆           ┆           ┆           ┆          │\n",
       "│           ┆ 14:20:19  ┆ arning.AI ┆ model was ┆   ┆           ┆           ┆           ┆          │\n",
       "│           ┆           ┆ !!…       ┆ used as … ┆   ┆           ┆           ┆           ┆          │\n",
       "└───────────┴───────────┴───────────┴───────────┴───┴───────────┴───────────┴───────────┴──────────┘"
      ]
     },
     "execution_count": 6,
     "metadata": {},
     "output_type": "execute_result"
    }
   ],
   "source": [
    "df.head()"
   ]
  },
  {
   "cell_type": "markdown",
   "id": "f33d7ac4-db9f-466c-af2e-bc50db7e5535",
   "metadata": {},
   "source": [
    "### Import File"
   ]
  },
  {
   "cell_type": "code",
   "execution_count": 7,
   "id": "516276be-7259-4b17-8754-4ba899ebe314",
   "metadata": {},
   "outputs": [],
   "source": [
    "df.write_parquet('data/video-index.parquet')"
   ]
  }
 ],
 "metadata": {
  "kernelspec": {
   "display_name": "proj_one",
   "language": "python",
   "name": "python3"
  },
  "language_info": {
   "codemirror_mode": {
    "name": "ipython",
    "version": 3
   },
   "file_extension": ".py",
   "mimetype": "text/x-python",
   "name": "python",
   "nbconvert_exporter": "python",
   "pygments_lexer": "ipython3",
   "version": "3.11.9"
  }
 },
 "nbformat": 4,
 "nbformat_minor": 5
}
