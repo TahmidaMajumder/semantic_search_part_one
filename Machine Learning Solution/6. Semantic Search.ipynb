{
 "cells": [
  {
   "cell_type": "markdown",
   "id": "b93a9890",
   "metadata": {},
   "source": [
    "## Semantic Search Function"
   ]
  },
  {
   "cell_type": "markdown",
   "id": "f1f952dd",
   "metadata": {},
   "source": [
    "### Imports"
   ]
  },
  {
   "cell_type": "code",
   "execution_count": 1,
   "id": "804376e1",
   "metadata": {},
   "outputs": [
    {
     "name": "stderr",
     "output_type": "stream",
     "text": [
      "e:\\Semantic Search YouTube Channel Part One\\proj_one\\Lib\\site-packages\\tqdm\\auto.py:21: TqdmWarning: IProgress not found. Please update jupyter and ipywidgets. See https://ipywidgets.readthedocs.io/en/stable/user_install.html\n",
      "  from .autonotebook import tqdm as notebook_tqdm\n"
     ]
    }
   ],
   "source": [
    "import polars as pl\n",
    "from sentence_transformers import SentenceTransformer\n",
    "from sklearn.metrics import DistanceMetric\n",
    "import numpy as np\n",
    "import gradio as gr"
   ]
  },
  {
   "cell_type": "markdown",
   "id": "0bd60ce5",
   "metadata": {},
   "source": [
    "### Load Data,Model, and Metric"
   ]
  },
  {
   "cell_type": "code",
   "execution_count": 2,
   "id": "b9523846",
   "metadata": {},
   "outputs": [
    {
     "name": "stdout",
     "output_type": "stream",
     "text": [
      "CPU times: total: 0 ns\n",
      "Wall time: 1 ms\n"
     ]
    }
   ],
   "source": [
    "%time df = pl.scan_parquet('data/video-index.parquet')"
   ]
  },
  {
   "cell_type": "code",
   "execution_count": 3,
   "id": "b497a27d",
   "metadata": {},
   "outputs": [
    {
     "name": "stdout",
     "output_type": "stream",
     "text": [
      "CPU times: total: 1.53 s\n",
      "Wall time: 5.61 s\n"
     ]
    }
   ],
   "source": [
    "model_name = 'all-MiniLM-L6-v2'\n",
    "%time model = SentenceTransformer(model_name)"
   ]
  },
  {
   "cell_type": "code",
   "execution_count": 4,
   "id": "16f091bf",
   "metadata": {},
   "outputs": [
    {
     "name": "stdout",
     "output_type": "stream",
     "text": [
      "CPU times: total: 0 ns\n",
      "Wall time: 0 ns\n"
     ]
    }
   ],
   "source": [
    "dist_name = 'manhattan'\n",
    "%time dist = DistanceMetric.get_metric(dist_name)"
   ]
  },
  {
   "cell_type": "markdown",
   "id": "1e8f99e9",
   "metadata": {},
   "source": [
    "### Search Fuction"
   ]
  },
  {
   "cell_type": "code",
   "execution_count": 5,
   "id": "f4c455a7",
   "metadata": {},
   "outputs": [],
   "source": [
    "def returnSearchResults(query: str, index: pl.lazyframe.frame.LazyFrame) -> np.ndarray:\n",
    "    \"\"\"\n",
    "        Function to return indexes of top search results\n",
    "    \"\"\"\n",
    "    \n",
    "    # embed query\n",
    "    query_embedding = model.encode(query).reshape(1, -1)\n",
    "\n",
    "    # Get column names without triggering schema resolution warning\n",
    "    column_names = index.collect_schema().names()\n",
    "    \n",
    "    # compute distances between query and titles/transcripts\n",
    "    dist_arr = (\n",
    "        dist.pairwise(index.select(column_names[4:388]).collect(), query_embedding)\n",
    "    )\n",
    "\n",
    "    # search paramaters\n",
    "    threshold = 40 # eye balled threshold for manhatten distance\n",
    "    top_k = 5\n",
    "\n",
    "    # evaluate videos close to query based on threshold\n",
    "    idx_below_threshold = np.argwhere(dist_arr.flatten()<threshold).flatten()\n",
    "    # keep top k closest videos\n",
    "    idx_sorted = np.argsort(dist_arr[idx_below_threshold], axis=0).flatten()\n",
    "\n",
    "    # return indexes of search results\n",
    "    return idx_below_threshold[idx_sorted][:top_k]"
   ]
  },
  {
   "cell_type": "code",
   "execution_count": 6,
   "id": "613ab22c",
   "metadata": {},
   "outputs": [
    {
     "name": "stdout",
     "output_type": "stream",
     "text": [
      "shape: (5, 2)\n",
      "┌─────────────┬─────────────────────────────────┐\n",
      "│ video_id    ┆ title                           │\n",
      "│ ---         ┆ ---                             │\n",
      "│ str         ┆ str                             │\n",
      "╞═════════════╪═════════════════════════════════╡\n",
      "│ _UVHneBUBW0 ┆ Principal Component Analysis (… │\n",
      "│ oRvgq966yZg ┆ StatQuest: PCA - Practical Tip… │\n",
      "│ 0Jp4gsfOLMs ┆ StatQuest: PCA in R             │\n",
      "│ FgakZw6K1QQ ┆ StatQuest: Principal Component… │\n",
      "│ ccjrsxXmfnw ┆ PCA Eigenvalues                 │\n",
      "└─────────────┴─────────────────────────────────┘\n"
     ]
    }
   ],
   "source": [
    "query = \"pca\"\n",
    "idx_result = returnSearchResults(query, df)\n",
    "\n",
    "print(df.select(['video_id', 'title']).collect()[idx_result])"
   ]
  },
  {
   "cell_type": "code",
   "execution_count": 7,
   "id": "29673762",
   "metadata": {},
   "outputs": [
    {
     "data": {
      "text/plain": [
       "{'title': ['Principal Component Analysis (PCA) clearly explained (2015)',\n",
       "  'StatQuest: PCA - Practical Tips',\n",
       "  'StatQuest: PCA in R',\n",
       "  'StatQuest: Principal Component Analysis (PCA), Step-by-Step',\n",
       "  'PCA Eigenvalues'],\n",
       " 'video_id': ['_UVHneBUBW0',\n",
       "  'oRvgq966yZg',\n",
       "  '0Jp4gsfOLMs',\n",
       "  'FgakZw6K1QQ',\n",
       "  'ccjrsxXmfnw']}"
      ]
     },
     "execution_count": 7,
     "metadata": {},
     "output_type": "execute_result"
    }
   ],
   "source": [
    "df.select(['title', 'video_id']).collect()[idx_result].to_dict(as_series=False)"
   ]
  },
  {
   "cell_type": "code",
   "execution_count": 8,
   "id": "99a9ec90",
   "metadata": {},
   "outputs": [
    {
     "name": "stdout",
     "output_type": "stream",
     "text": [
      "shape: (5, 2)\n",
      "┌─────────────┬─────────────────────────────────┐\n",
      "│ video_id    ┆ title                           │\n",
      "│ ---         ┆ ---                             │\n",
      "│ str         ┆ str                             │\n",
      "╞═════════════╪═════════════════════════════════╡\n",
      "│ bQ5BoolX9Ag ┆ Decoder-Only Transformers, Cha… │\n",
      "│ k3b9Mvtt6lU ┆ The AI Buzz, Episode #1: ChatG… │\n",
      "│ zxQyTK8quyY ┆ Transformer Neural Networks, C… │\n",
      "│ KphmOJnLAdI ┆ The matrix math behind transfo… │\n",
      "│ C9QSpl5nmrY ┆ Coding a ChatGPT Like Transfor… │\n",
      "└─────────────┴─────────────────────────────────┘\n"
     ]
    }
   ],
   "source": [
    "query = \"transformers\"\n",
    "idx_result = returnSearchResults(query, df)\n",
    "\n",
    "print(df.select(['video_id', 'title']).collect()[idx_result])"
   ]
  },
  {
   "cell_type": "markdown",
   "id": "441222b1",
   "metadata": {},
   "source": [
    "### Interface"
   ]
  },
  {
   "cell_type": "code",
   "execution_count": 9,
   "id": "32437c57",
   "metadata": {},
   "outputs": [],
   "source": [
    "def pseudoSearchAPI(query: str):\n",
    "    \n",
    "    # return top 5 search results\n",
    "    idx_result = returnSearchResults(query, df)\n",
    "    response = df.select(['title', 'video_id']).collect()[idx_result].to_dict(as_series=False)\n",
    "\n",
    "    return response"
   ]
  },
  {
   "cell_type": "code",
   "execution_count": 10,
   "id": "f731b577",
   "metadata": {},
   "outputs": [],
   "source": [
    "def formatResultText(title: str, video_id: str):\n",
    "    \n",
    "    text = markdown_text = f\"\"\"<br> <br>\n",
    "# {title}<br>\n",
    "\n",
    "🔗 [Video Link](https://youtu.be/{video_id})\"\"\"\n",
    "\n",
    "    return text"
   ]
  },
  {
   "cell_type": "code",
   "execution_count": 11,
   "id": "c419d2dd",
   "metadata": {},
   "outputs": [],
   "source": [
    "def formatVideoEmbed(video_id: str):\n",
    "\n",
    "    # other options\n",
    "    # embed = '<iframe width=\"640\" height=\"360\" src=\"https://img.youtube.com/vi/'+ video_id +'/0.jpg\" </iframe>'\n",
    "    # embed = '<a href=\"https://youtu.be/'+ video_id +'\"> <img src=\"https://img.youtube.com/vi/'+ video_id +'/0.jpg\" style=\"width:576;height:324;\"></a>'\n",
    "    # embed = '<a href=\"www.youtube.com/watch?v='+ video_id +'\"> <img src=\"https://img.youtube.com/vi/'+ video_id +'/0.jpg\" style=\"width:576;height:324;\"></a>'\n",
    "    \n",
    "    return '<iframe width=\"576\" height=\"324\" src=\"https://www.youtube.com/embed/'+ video_id +'\"></iframe>'"
   ]
  },
  {
   "cell_type": "code",
   "execution_count": 12,
   "id": "a1a1602f",
   "metadata": {},
   "outputs": [],
   "source": [
    "def searchResults(query):\n",
    "    # pseudo API call\n",
    "    response = pseudoSearchAPI(query)\n",
    "\n",
    "    # format search results\n",
    "\n",
    "    # initialize list of outputs\n",
    "    output_list = []\n",
    "\n",
    "    # compute number of null search results (out of 5)\n",
    "    num_empty_results = 5-len(response['title'])\n",
    "\n",
    "    # display search results\n",
    "    for i in range(len(response['title'])):\n",
    "        video_id = response['video_id'][i]\n",
    "        title = response['title'][i]\n",
    "\n",
    "        embed = gr.HTML(value = formatVideoEmbed(video_id), visible=True)\n",
    "        text = gr.Markdown(value = formatResultText(title, video_id), visible=True)\n",
    "\n",
    "        output_list.append(embed)\n",
    "        output_list.append(text)\n",
    "\n",
    "    # make null search result slots invisible\n",
    "    for i in range(num_empty_results):\n",
    "        \n",
    "        # if no search results display \"No results.\" text\n",
    "        if num_empty_results==5 and i==0:\n",
    "            embed = gr.HTML(visible=False)\n",
    "            text = gr.Markdown(value = \"No results. Try rephrasing your query.\", visible=True)\n",
    "\n",
    "            output_list.append(embed)\n",
    "            output_list.append(text)\n",
    "            continue\n",
    "\n",
    "        embed = gr.HTML(visible=False)\n",
    "        text = gr.Markdown(visible=False)\n",
    "\n",
    "        output_list.append(embed)\n",
    "        output_list.append(text)\n",
    "        \n",
    "    return output_list"
   ]
  },
  {
   "cell_type": "code",
   "execution_count": 13,
   "id": "c88bc9bb",
   "metadata": {},
   "outputs": [
    {
     "name": "stdout",
     "output_type": "stream",
     "text": [
      "* Running on local URL:  http://127.0.0.1:7860\n",
      "* To create a public link, set `share=True` in `launch()`.\n"
     ]
    },
    {
     "data": {
      "text/html": [
       "<div><iframe src=\"http://127.0.0.1:7860/\" width=\"100%\" height=\"500\" allow=\"autoplay; camera; microphone; clipboard-read; clipboard-write;\" frameborder=\"0\" allowfullscreen></iframe></div>"
      ],
      "text/plain": [
       "<IPython.core.display.HTML object>"
      ]
     },
     "metadata": {},
     "output_type": "display_data"
    },
    {
     "data": {
      "text/plain": []
     },
     "execution_count": 13,
     "metadata": {},
     "output_type": "execute_result"
    }
   ],
   "source": [
    "# demo\n",
    "output_list = []\n",
    "\n",
    "with gr.Blocks() as demo:\n",
    "    gr.Markdown(\"# YouTube Search\")\n",
    "\n",
    "    with gr.Row(equal_height=True):\n",
    "        inp = gr.Textbox(placeholder=\"What are you looking for?\", label=\"Query\")\n",
    "        btn = gr.Button(\"Search\")\n",
    "        btn.click(fn=searchResults, inputs=inp, outputs=output_list)\n",
    "    \n",
    "    for i in range(5):\n",
    "        with gr.Row():\n",
    "            output_list.append(gr.HTML())\n",
    "            output_list.append(gr.Markdown())\n",
    "             \n",
    "    inp.submit(fn=searchResults, inputs=inp, outputs=output_list)\n",
    "\n",
    "demo.launch()"
   ]
  }
 ],
 "metadata": {
  "kernelspec": {
   "display_name": "proj_one",
   "language": "python",
   "name": "python3"
  },
  "language_info": {
   "codemirror_mode": {
    "name": "ipython",
    "version": 3
   },
   "file_extension": ".py",
   "mimetype": "text/x-python",
   "name": "python",
   "nbconvert_exporter": "python",
   "pygments_lexer": "ipython3",
   "version": "3.11.9"
  }
 },
 "nbformat": 4,
 "nbformat_minor": 5
}
