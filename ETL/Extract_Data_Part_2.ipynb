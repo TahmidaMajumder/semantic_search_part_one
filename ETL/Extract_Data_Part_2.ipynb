{
 "cells": [
  {
   "cell_type": "markdown",
   "id": "f2274ee5",
   "metadata": {},
   "source": [
    "## Extract Automatic Transcripts from YouTube Videos"
   ]
  },
  {
   "cell_type": "markdown",
   "id": "54753987",
   "metadata": {},
   "source": [
    "### Imports"
   ]
  },
  {
   "cell_type": "code",
   "execution_count": 1,
   "id": "905aade0",
   "metadata": {},
   "outputs": [],
   "source": [
    "import polars as pl\n",
    "from youtube_transcript_api import YouTubeTranscriptApi"
   ]
  },
  {
   "cell_type": "markdown",
   "id": "6f3714bd",
   "metadata": {},
   "source": [
    "### Functions"
   ]
  },
  {
   "cell_type": "code",
   "execution_count": 2,
   "id": "44132385",
   "metadata": {},
   "outputs": [],
   "source": [
    "def extract_text(transcript: list) -> str:\n",
    "    \"\"\"\n",
    "        Function to extract text from transcript dictionary\n",
    "    \"\"\"\n",
    "    \n",
    "    text_list = [transcript[i]['text'] for i in range(len(transcript))]\n",
    "    return ' '.join(text_list)"
   ]
  },
  {
   "cell_type": "markdown",
   "id": "625da3d6",
   "metadata": {},
   "source": [
    "### Get Transcripts"
   ]
  },
  {
   "cell_type": "code",
   "execution_count": 3,
   "id": "5af41a47",
   "metadata": {},
   "outputs": [
    {
     "name": "stdout",
     "output_type": "stream",
     "text": [
      "shape: (5, 3)\n",
      "┌─────────────┬──────────────────────┬─────────────────────────────────┐\n",
      "│ video_id    ┆ datetime             ┆ title                           │\n",
      "│ ---         ┆ ---                  ┆ ---                             │\n",
      "│ str         ┆ str                  ┆ str                             │\n",
      "╞═════════════╪══════════════════════╪═════════════════════════════════╡\n",
      "│ qPN_XZcJf_s ┆ 2025-05-05T04:01:03Z ┆ Reinforcement Learning with Hu… │\n",
      "│ DVGmsnxB2UQ ┆ 2025-04-14T04:00:27Z ┆ Reinforcement Learning with Ne… │\n",
      "│ 9hbQieQh7-o ┆ 2025-04-07T04:00:17Z ┆ Reinforcement Learning with Ne… │\n",
      "│ Z-T0iJEXiwM ┆ 2025-03-31T04:00:25Z ┆ Reinforcement Learning: Essent… │\n",
      "│ _kstkMF-lQQ ┆ 2025-02-12T14:20:19Z ┆ StatQuest on DeepLearning.AI!!… │\n",
      "└─────────────┴──────────────────────┴─────────────────────────────────┘\n"
     ]
    }
   ],
   "source": [
    "df = pl.read_parquet('data/video-ids.parquet')\n",
    "print(df.head())"
   ]
  },
  {
   "cell_type": "code",
   "execution_count": 4,
   "id": "2915a2d7",
   "metadata": {},
   "outputs": [
    {
     "name": "stdout",
     "output_type": "stream",
     "text": [
      "CPU times: total: 10.2 s\n",
      "Wall time: 4min 55s\n"
     ]
    }
   ],
   "source": [
    "%%time\n",
    "transcript_text_list = []\n",
    "\n",
    "for i in range(len(df)):\n",
    "\n",
    "    # try to extract captions\n",
    "    try:\n",
    "        transcript = YouTubeTranscriptApi.get_transcript(df['video_id'][i])\n",
    "        transcript_text = extract_text(transcript)\n",
    "    # if not available set as n/a\n",
    "    except:\n",
    "        transcript_text = \"n/a\"\n",
    "    \n",
    "    transcript_text_list.append(transcript_text)"
   ]
  },
  {
   "cell_type": "code",
   "execution_count": 5,
   "id": "01536ba8",
   "metadata": {},
   "outputs": [
    {
     "name": "stdout",
     "output_type": "stream",
     "text": [
      "shape: (5, 4)\n",
      "┌─────────────┬──────────────────────┬──────────────────────────────┬──────────────────────────────┐\n",
      "│ video_id    ┆ datetime             ┆ title                        ┆ transcript                   │\n",
      "│ ---         ┆ ---                  ┆ ---                          ┆ ---                          │\n",
      "│ str         ┆ str                  ┆ str                          ┆ str                          │\n",
      "╞═════════════╪══════════════════════╪══════════════════════════════╪══════════════════════════════╡\n",
      "│ qPN_XZcJf_s ┆ 2025-05-05T04:01:03Z ┆ Reinforcement Learning with  ┆ If you tell me what you like │\n",
      "│             ┆                      ┆ Hu…                          ┆ a…                           │\n",
      "│ DVGmsnxB2UQ ┆ 2025-04-14T04:00:27Z ┆ Reinforcement Learning with  ┆ if you make a guess and you  │\n",
      "│             ┆                      ┆ Ne…                          ┆ ma…                          │\n",
      "│ 9hbQieQh7-o ┆ 2025-04-07T04:00:17Z ┆ Reinforcement Learning with  ┆ When you don't know, take a  │\n",
      "│             ┆                      ┆ Ne…                          ┆ gu…                          │\n",
      "│ Z-T0iJEXiwM ┆ 2025-03-31T04:00:25Z ┆ Reinforcement Learning:      ┆ reinforcement learning it's  │\n",
      "│             ┆                      ┆ Essent…                      ┆ ju…                          │\n",
      "│ _kstkMF-lQQ ┆ 2025-02-12T14:20:19Z ┆ StatQuest on                 ┆ the encoder model was used   │\n",
      "│             ┆                      ┆ DeepLearning.AI!!…           ┆ as …                         │\n",
      "└─────────────┴──────────────────────┴──────────────────────────────┴──────────────────────────────┘\n"
     ]
    }
   ],
   "source": [
    "# add transcripts to dataframe\n",
    "df = df.with_columns(pl.Series(name=\"transcript\", values=transcript_text_list))\n",
    "print(df.head())"
   ]
  },
  {
   "cell_type": "markdown",
   "id": "5b3768de",
   "metadata": {},
   "source": [
    "### Export Data "
   ]
  },
  {
   "cell_type": "code",
   "execution_count": 6,
   "id": "63920dd3",
   "metadata": {},
   "outputs": [],
   "source": [
    "# write data to file\n",
    "df.write_parquet('data/video-transcripts.parquet')\n",
    "df.write_csv('data/video-transcripts.csv')"
   ]
  }
 ],
 "metadata": {
  "kernelspec": {
   "display_name": "YouTube_Sementic_Search",
   "language": "python",
   "name": "python3"
  },
  "language_info": {
   "codemirror_mode": {
    "name": "ipython",
    "version": 3
   },
   "file_extension": ".py",
   "mimetype": "text/x-python",
   "name": "python",
   "nbconvert_exporter": "python",
   "pygments_lexer": "ipython3",
   "version": "3.11.9"
  }
 },
 "nbformat": 4,
 "nbformat_minor": 5
}
